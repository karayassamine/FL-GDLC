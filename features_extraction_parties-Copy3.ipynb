{
 "cells": [
  {
   "cell_type": "code",
   "execution_count": 1,
   "id": "4bb60a41-3e57-4486-a7d4-e461c788f1ee",
   "metadata": {},
   "outputs": [],
   "source": [
    "import json\n",
    "import pandas as pd\n",
    "import networkx as nx\n",
    "import matplotlib.pyplot as plt\n",
    "import numpy as np\n",
    "\n",
    "# datasets is a list of available datasets descriptions containing: path, key columns names, and suitable complex network features\n",
    "from src.data.dataset_info import datasets\n"
   ]
  },
  {
   "cell_type": "code",
   "execution_count": 2,
   "id": "3400bd71-031d-4a99-8f0f-1780138a6d36",
   "metadata": {},
   "outputs": [
    {
     "name": "stdout",
     "output_type": "stream",
     "text": [
      "dataset: partition_3\n"
     ]
    }
   ],
   "source": [
    "dataset = datasets[5]\n",
    "name = dataset.name\n",
    "print(\"dataset: {}\".format(name))\n",
    "\n",
    "path = \"./datasets/partitions/{}.pkl\".format(name)\n",
    "new_path = \"./datasets/preprocessed/{}.pkl\".format(name)\n",
    "graph_path = \"./datasets/preprocessed/graph_{}.gexf\".format(name)\n",
    "df = pd.read_pickle(path)"
   ]
  },
  {
   "cell_type": "code",
   "execution_count": 3,
   "id": "9413d2a7-8350-484f-b0b5-0b48819ab14a",
   "metadata": {},
   "outputs": [],
   "source": [
    "# converting all infinity values into nan then dropping all records containing nan values\n",
    "df.replace([np.inf, -np.inf], np.nan, inplace=True)\n",
    "df.dropna(axis=0, how='any', inplace=True)\n",
    "\n",
    "df.drop_duplicates(subset=list(set(df.columns) - set([dataset.timestamp_col, dataset.flow_id_col])), keep=\"first\", inplace=True)"
   ]
  },
  {
   "cell_type": "code",
   "execution_count": 4,
   "id": "126545ed-8eb4-422b-976e-01c51ac5b3cc",
   "metadata": {},
   "outputs": [],
   "source": [
    "total_count = len(df)\n",
    "\n",
    "properties = {\n",
    "    \"name\": dataset.name,\n",
    "    \"length\": total_count,\n",
    "}\n",
    "\n",
    "num_benign = len(df[df['Label'] == 0])\n",
    "num_attack = len(df[df['Label'] == 1])\n",
    "\n",
    "properties[\"num_benign\"] = num_benign\n",
    "properties[\"percentage_of_benign_records\"] = ((num_benign * 100)/total_count)\n",
    "\n",
    "properties[\"num_attack\"] = num_attack\n",
    "properties[\"percentage_of_attack_records\"] = ((num_attack * 100)/total_count)\n",
    "\n",
    "properties[\"attacks\"] = list(df[\"Attack\"].unique())  # .to_list()\n",
    "\n",
    "filename = ('./datasets_properties/{}.json'.format(dataset.name))\n",
    "outfile = open(filename, 'w')\n",
    "outfile.writelines(json.dumps(properties))\n",
    "outfile.close()"
   ]
  },
  {
   "cell_type": "code",
   "execution_count": 5,
   "id": "40512608-733b-4f3a-a890-999d5e33cd1c",
   "metadata": {},
   "outputs": [],
   "source": [
    "G = nx.from_pandas_edgelist(\n",
    "        df,\n",
    "        source=dataset.src_ip_col,\n",
    "        target=dataset.dst_ip_col,\n",
    "        create_using=nx.DiGraph()\n",
    "    )"
   ]
  },
  {
   "cell_type": "code",
   "execution_count": 6,
   "id": "da621b31-2470-4c8b-a1ea-b1b84176a306",
   "metadata": {},
   "outputs": [],
   "source": [
    "G.remove_nodes_from(list(nx.isolates(G)))"
   ]
  },
  {
   "cell_type": "code",
   "execution_count": 7,
   "id": "7d32ed11-2727-4fc9-8f2a-52a9670df9ff",
   "metadata": {},
   "outputs": [
    {
     "name": "stdout",
     "output_type": "stream",
     "text": [
      "==>> number of communities: 127\n",
      "==>> com: 47\n",
      "==>> com: 68679\n",
      "==>> com: 89\n",
      "==>> com: 21\n",
      "==>> com: 474\n",
      "==>> com: 664\n",
      "==>> com: 123\n",
      "==>> com: 28\n",
      "==>> com: 95\n",
      "==>> com: 1077\n",
      "==>> com: 3217\n",
      "==>> com: 67\n",
      "==>> com: 73\n",
      "==>> com: 164\n",
      "==>> com: 25\n",
      "==>> com: 41\n",
      "==>> com: 101\n",
      "==>> com: 2\n",
      "==>> com: 169\n",
      "==>> com: 56\n",
      "==>> com: 4\n",
      "==>> com: 231\n",
      "==>> com: 26\n",
      "==>> com: 7\n",
      "==>> com: 254\n",
      "==>> com: 89\n",
      "==>> com: 41\n",
      "==>> com: 11\n",
      "==>> com: 15\n",
      "==>> com: 14\n",
      "==>> com: 44\n",
      "==>> com: 2\n",
      "==>> com: 94\n",
      "==>> com: 34\n",
      "==>> com: 3\n",
      "==>> com: 73\n",
      "==>> com: 49\n",
      "==>> com: 5\n",
      "==>> com: 3\n",
      "==>> com: 15\n",
      "==>> com: 125\n",
      "==>> com: 2\n",
      "==>> com: 2\n",
      "==>> com: 71\n",
      "==>> com: 76\n",
      "==>> com: 4\n",
      "==>> com: 5\n",
      "==>> com: 97\n",
      "==>> com: 32\n",
      "==>> com: 5\n",
      "==>> com: 7\n",
      "==>> com: 85\n",
      "==>> com: 5\n",
      "==>> com: 2\n",
      "==>> com: 4\n",
      "==>> com: 6\n",
      "==>> com: 2\n",
      "==>> com: 7\n",
      "==>> com: 14\n",
      "==>> com: 48\n",
      "==>> com: 15\n",
      "==>> com: 51\n",
      "==>> com: 5\n",
      "==>> com: 2\n",
      "==>> com: 6\n",
      "==>> com: 2\n",
      "==>> com: 34\n",
      "==>> com: 4\n",
      "==>> com: 2\n",
      "==>> com: 22\n",
      "==>> com: 11\n",
      "==>> com: 11\n",
      "==>> com: 16\n",
      "==>> com: 6\n",
      "==>> com: 7\n",
      "==>> com: 4\n",
      "==>> com: 2\n",
      "==>> com: 8\n",
      "==>> com: 4\n",
      "==>> com: 7\n",
      "==>> com: 6\n",
      "==>> com: 5\n",
      "==>> com: 2\n",
      "==>> com: 2\n",
      "==>> com: 5\n",
      "==>> com: 4\n",
      "==>> com: 5\n",
      "==>> com: 3\n",
      "==>> com: 2\n",
      "==>> com: 4\n",
      "==>> com: 3\n",
      "==>> com: 12\n",
      "==>> com: 14\n",
      "==>> com: 2\n",
      "==>> com: 2\n",
      "==>> com: 8\n",
      "==>> com: 2\n",
      "==>> com: 3\n",
      "==>> com: 3\n",
      "==>> com: 3\n",
      "==>> com: 2\n",
      "==>> com: 4\n",
      "==>> com: 3\n",
      "==>> com: 2\n",
      "==>> com: 3\n",
      "==>> com: 2\n",
      "==>> com: 3\n",
      "==>> com: 2\n",
      "==>> com: 2\n",
      "==>> com: 2\n",
      "==>> com: 4\n",
      "==>> com: 2\n",
      "==>> com: 2\n",
      "==>> com: 2\n",
      "==>> com: 2\n",
      "==>> com: 2\n",
      "==>> com: 2\n",
      "==>> com: 2\n",
      "==>> com: 2\n",
      "==>> com: 2\n",
      "==>> com: 2\n",
      "==>> com: 2\n",
      "==>> com: 2\n",
      "==>> com: 2\n",
      "==>> com: 2\n",
      "==>> com: 2\n",
      "==>> com: 2\n"
     ]
    }
   ],
   "source": [
    "import igraph as ig\n",
    "G1 = ig.Graph.from_networkx(G)\n",
    "part = G1.community_infomap()\n",
    "\n",
    "communities = []\n",
    "for com in part:\n",
    "    communities.append([G1.vs[node_index]['_nx_name'] for node_index in com])\n",
    "\n",
    "print(f\"==>> number of communities: {len(communities)}\")\n",
    "for com in communities:\n",
    "    print(f\"==>> com: {len(com)}\")"
   ]
  },
  {
   "cell_type": "code",
   "execution_count": 8,
   "id": "34cf03ac-fb52-4b95-8f09-49e999851d6f",
   "metadata": {},
   "outputs": [],
   "source": [
    "properties = {}\n",
    "\n",
    "properties[\"number_of_nodes\"] = G.number_of_nodes()\n",
    "properties[\"number_of_edges\"] = G.number_of_edges()\n",
    "\n",
    "degrees = [degree for _, degree in G.degree()]\n",
    "properties[\"max_degree\"] = max(degrees)\n",
    "properties[\"avg_degree\"] = sum(degrees) / len(degrees)"
   ]
  },
  {
   "cell_type": "code",
   "execution_count": 9,
   "id": "14a6904a-0e92-484c-9d87-a3633a2e779b",
   "metadata": {},
   "outputs": [],
   "source": [
    "properties[\"transitivity\"] = nx.transitivity(G)\n"
   ]
  },
  {
   "cell_type": "code",
   "execution_count": 10,
   "id": "778d1d32-98ca-4623-8d12-5c429e82fa51",
   "metadata": {},
   "outputs": [],
   "source": [
    "properties[\"density\"] =  nx.density(G)\n"
   ]
  },
  {
   "cell_type": "code",
   "execution_count": 11,
   "id": "c84b5059-0d44-4851-acb2-33ff6566a13e",
   "metadata": {},
   "outputs": [],
   "source": [
    "# Assuming G is your graph and communities is a list of sets, where each set contains the nodes in a community\n",
    "\n",
    "# Step 1: Map each node to its community\n",
    "node_to_community = {}\n",
    "for community_index, community in enumerate(communities):\n",
    "    for node in community:\n",
    "        node_to_community[node] = community_index\n",
    "\n",
    "# Step 2: Count inter-cluster edges efficiently\n",
    "inter_cluster_edges = 0\n",
    "for u, v in G.edges():\n",
    "    # Directly check if u and v belong to different communities\n",
    "    if node_to_community[u] != node_to_community[v]:\n",
    "        inter_cluster_edges += 1\n",
    "\n",
    "\n",
    "properties[\"mixing_parameter\"] = inter_cluster_edges / G.number_of_edges()"
   ]
  },
  {
   "cell_type": "code",
   "execution_count": 12,
   "id": "6d27d91b-2846-4048-93eb-4bcc69c9796d",
   "metadata": {},
   "outputs": [],
   "source": [
    "properties[\"modularity\"] = nx.community.modularity(G, communities)"
   ]
  },
  {
   "cell_type": "code",
   "execution_count": 13,
   "id": "6f1460cb-44a8-42f8-b110-4688414db830",
   "metadata": {},
   "outputs": [
    {
     "data": {
      "text/plain": [
       "{'number_of_nodes': 77195,\n",
       " 'number_of_edges': 115175,\n",
       " 'max_degree': 24550,\n",
       " 'avg_degree': 2.9840015545048253,\n",
       " 'transitivity': 0.030208756030479282,\n",
       " 'density': 1.9327937109780718e-05,\n",
       " 'mixing_parameter': 0.01784241371825483,\n",
       " 'modularity': 0.14314440370159914}"
      ]
     },
     "execution_count": 13,
     "metadata": {},
     "output_type": "execute_result"
    }
   ],
   "source": [
    "filename = ('./datasets_properties/{}.json'.format(\"graph_\" + name))\n",
    "outfile = open(filename, 'w')\n",
    "outfile.writelines(json.dumps(properties))\n",
    "outfile.close()\n",
    "\n",
    "properties"
   ]
  },
  {
   "cell_type": "code",
   "execution_count": 14,
   "id": "38046237-daac-4eee-a4c3-e7f143d687bd",
   "metadata": {},
   "outputs": [],
   "source": [
    "community_labels = {}\n",
    "for i, community in enumerate(communities):\n",
    "    for node in community:\n",
    "        community_labels[node] = i\n",
    "\n",
    "nx.set_node_attributes(G, community_labels, \"new_community\")"
   ]
  },
  {
   "cell_type": "code",
   "execution_count": 15,
   "id": "e1187103-2478-4397-8b7f-c2e9f247e444",
   "metadata": {},
   "outputs": [],
   "source": [
    "# getting inter and itra graph, to calculate the local and global variations of each centrality\n",
    "from src.network.network_features import separate_graph\n",
    "\n",
    "intra_graph, inter_graph = separate_graph(G, communities)"
   ]
  },
  {
   "cell_type": "code",
   "execution_count": 16,
   "id": "8478a345-3bf2-41a9-90de-0e68456c5b3b",
   "metadata": {},
   "outputs": [
    {
     "name": "stdout",
     "output_type": "stream",
     "text": [
      "calculated\n"
     ]
    }
   ],
   "source": [
    "from src.network.network_features import cal_betweenness_centrality\n",
    "\n",
    "if \"betweenness\" in dataset.cn_measures:\n",
    "    nx.set_node_attributes(G, cal_betweenness_centrality(G), \"betweenness\")\n",
    "    print(\"calculated\")"
   ]
  },
  {
   "cell_type": "code",
   "execution_count": 17,
   "id": "e227b75a-729d-44de-94ad-bbb372c9b3b6",
   "metadata": {},
   "outputs": [],
   "source": [
    "if \"local_betweenness\" in dataset.cn_measures:\n",
    "    nx.set_node_attributes(G, cal_betweenness_centrality(intra_graph), \"local_betweenness\")\n",
    "    print(\"calculated\")"
   ]
  },
  {
   "cell_type": "code",
   "execution_count": 18,
   "id": "b0abe3a4-1226-42ba-9251-17bc114e2984",
   "metadata": {},
   "outputs": [
    {
     "name": "stdout",
     "output_type": "stream",
     "text": [
      "calculated\n"
     ]
    }
   ],
   "source": [
    "if \"global_betweenness\" in dataset.cn_measures:\n",
    "    nx.set_node_attributes(G, cal_betweenness_centrality(inter_graph), \"global_betweenness\")\n",
    "    print(\"calculated\")"
   ]
  },
  {
   "cell_type": "code",
   "execution_count": 19,
   "id": "63112f78-63e0-4b9d-992a-43669b881dc2",
   "metadata": {},
   "outputs": [
    {
     "name": "stdout",
     "output_type": "stream",
     "text": [
      "calculated\n"
     ]
    }
   ],
   "source": [
    "if \"degree\" in dataset.cn_measures:\n",
    "    nx.set_node_attributes(G, nx.degree_centrality(G), \"degree\")\n",
    "    print(\"calculated\")"
   ]
  },
  {
   "cell_type": "code",
   "execution_count": 20,
   "id": "b38b4022-33a3-4617-91b6-2be09edafe4b",
   "metadata": {},
   "outputs": [],
   "source": [
    "if \"local_degree\" in dataset.cn_measures:\n",
    "    nx.set_node_attributes(G, nx.degree_centrality(intra_graph), \"local_degree\")\n",
    "    print(\"calculated\")"
   ]
  },
  {
   "cell_type": "code",
   "execution_count": 21,
   "id": "717b7e4a-e2fa-495a-afb7-dce74f77f8d0",
   "metadata": {},
   "outputs": [
    {
     "name": "stdout",
     "output_type": "stream",
     "text": [
      "calculated\n"
     ]
    }
   ],
   "source": [
    "if \"global_degree\" in dataset.cn_measures:\n",
    "    nx.set_node_attributes(G, nx.degree_centrality(inter_graph), \"global_degree\")\n",
    "    print(\"calculated\")"
   ]
  },
  {
   "cell_type": "code",
   "execution_count": 22,
   "id": "44b16d4a-f504-47dc-8b05-adb83605b179",
   "metadata": {},
   "outputs": [
    {
     "name": "stdout",
     "output_type": "stream",
     "text": [
      "calculated\n"
     ]
    }
   ],
   "source": [
    "if \"eigenvector\" in dataset.cn_measures:\n",
    "    nx.set_node_attributes(G, nx.eigenvector_centrality(G, max_iter=600), \"eigenvector\")\n",
    "    print(\"calculated\")\n"
   ]
  },
  {
   "cell_type": "code",
   "execution_count": 23,
   "id": "77611bed-34a0-4989-b6af-643e89cd05ea",
   "metadata": {},
   "outputs": [],
   "source": [
    "if \"local_eigenvector\" in dataset.cn_measures:\n",
    "    nx.set_node_attributes(G, nx.eigenvector_centrality(intra_graph), \"local_eigenvector\")\n",
    "    print(\"calculated\")"
   ]
  },
  {
   "cell_type": "code",
   "execution_count": 24,
   "id": "4e367753-0148-48c7-bd32-d848296190cd",
   "metadata": {},
   "outputs": [],
   "source": [
    "if \"global_eigenvector\" in dataset.cn_measures:\n",
    "    nx.set_node_attributes(G, nx.eigenvector_centrality(inter_graph), \"global_eigenvector\")\n",
    "    print(\"calculated\")"
   ]
  },
  {
   "cell_type": "code",
   "execution_count": 25,
   "id": "363de90e-cc68-4c31-b040-c5bb48d1cfc9",
   "metadata": {},
   "outputs": [
    {
     "name": "stdout",
     "output_type": "stream",
     "text": [
      "calculated\n"
     ]
    }
   ],
   "source": [
    "if \"closeness\" in dataset.cn_measures:\n",
    "    nx.set_node_attributes(G, nx.closeness_centrality(G), \"closeness\")\n",
    "    print(\"calculated\")"
   ]
  },
  {
   "cell_type": "code",
   "execution_count": 26,
   "id": "7b15303d-64f7-4fb1-91e7-be70f18a1328",
   "metadata": {},
   "outputs": [],
   "source": [
    "if \"local_closeness\" in dataset.cn_measures:\n",
    "    nx.set_node_attributes(G, nx.closeness_centrality(intra_graph), \"local_closeness\")\n",
    "    print(\"calculated\")"
   ]
  },
  {
   "cell_type": "code",
   "execution_count": 27,
   "id": "5bb14aff-c05f-4de5-9f64-e416ee61957f",
   "metadata": {},
   "outputs": [],
   "source": [
    "if \"global_closeness\" in dataset.cn_measures:\n",
    "    nx.set_node_attributes(G, nx.closeness_centrality(inter_graph), \"global_closeness\")\n",
    "    print(\"calculated\")"
   ]
  },
  {
   "cell_type": "code",
   "execution_count": 28,
   "id": "de20fda0-766b-4d65-82d5-df3ffecdd376",
   "metadata": {},
   "outputs": [
    {
     "name": "stdout",
     "output_type": "stream",
     "text": [
      "calculated\n"
     ]
    }
   ],
   "source": [
    "if \"pagerank\" in dataset.cn_measures:\n",
    "    nx.set_node_attributes(G, nx.pagerank(G, alpha=0.85), \"pagerank\")\n",
    "    print(\"calculated\")"
   ]
  },
  {
   "cell_type": "code",
   "execution_count": 29,
   "id": "c1aa56fe-ed9f-4cf1-8a56-4be0de12d63f",
   "metadata": {},
   "outputs": [],
   "source": [
    "if \"local_pagerank\" in dataset.cn_measures:\n",
    "    nx.set_node_attributes(G, nx.pagerank(intra_graph, alpha=0.85), \"local_pagerank\")\n",
    "    print(\"calculated\")"
   ]
  },
  {
   "cell_type": "code",
   "execution_count": 30,
   "id": "e8d8bce1-2912-4175-8ea9-ae4cc1657e1c",
   "metadata": {},
   "outputs": [
    {
     "name": "stdout",
     "output_type": "stream",
     "text": [
      "calculated\n"
     ]
    }
   ],
   "source": [
    "if \"global_pagerank\" in dataset.cn_measures:\n",
    "    nx.set_node_attributes(G, nx.pagerank(inter_graph, alpha=0.85), \"global_pagerank\")\n",
    "    print(\"calculated\")"
   ]
  },
  {
   "cell_type": "code",
   "execution_count": 31,
   "id": "62488c34-bd46-4bcd-9fb4-708c80cc8933",
   "metadata": {},
   "outputs": [
    {
     "name": "stdout",
     "output_type": "stream",
     "text": [
      "calculated\n"
     ]
    }
   ],
   "source": [
    "from src.network.network_features import cal_k_core\n",
    "\n",
    "if \"k_core\" in dataset.cn_measures:\n",
    "    nx.set_node_attributes(G, cal_k_core(G), \"k_core\")\n",
    "    print(\"calculated\")"
   ]
  },
  {
   "cell_type": "code",
   "execution_count": 32,
   "id": "dd0736bb-50f5-4e49-890c-3ec8702e81b2",
   "metadata": {},
   "outputs": [
    {
     "name": "stdout",
     "output_type": "stream",
     "text": [
      "calculated\n"
     ]
    }
   ],
   "source": [
    "from src.network.network_features import cal_k_truss\n",
    "if \"k_truss\" in dataset.cn_measures:\n",
    "    nx.set_node_attributes(G, cal_k_truss(G), \"k_truss\")\n",
    "    print(\"calculated\")"
   ]
  },
  {
   "cell_type": "code",
   "execution_count": 33,
   "id": "210b2855-bcd6-4974-bb8a-75d8e0e7f53d",
   "metadata": {},
   "outputs": [],
   "source": [
    "from src.network.CommCentralityCode import comm_centreality\n",
    "\n",
    "if \"Comm\" in dataset.cn_measures:\n",
    "    nx.set_node_attributes(G, comm_centreality(G, community_labels), \"Comm\")\n",
    "    print(\"calculated\")"
   ]
  },
  {
   "cell_type": "code",
   "execution_count": 34,
   "id": "03456123-315d-4234-ac19-aafca424bad5",
   "metadata": {},
   "outputs": [
    {
     "name": "stdout",
     "output_type": "stream",
     "text": [
      "calculated\n"
     ]
    }
   ],
   "source": [
    "from src.network.modularity_vitality import modularity_vitality\n",
    "\n",
    "if \"mv\" in dataset.cn_measures:\n",
    "    nx.set_node_attributes(G, modularity_vitality(G1, part), \"mv\")\n",
    "    print(\"calculated\")"
   ]
  },
  {
   "cell_type": "code",
   "execution_count": 35,
   "id": "72adbe44-238a-4fa6-8ff9-af100b682690",
   "metadata": {},
   "outputs": [],
   "source": [
    "nx.write_gexf(G, graph_path)"
   ]
  },
  {
   "cell_type": "code",
   "execution_count": 36,
   "id": "f63cecce-383b-4497-83bb-69d1a7c20751",
   "metadata": {},
   "outputs": [
    {
     "name": "stdout",
     "output_type": "stream",
     "text": [
      "==>> features_dicts: ('betweenness', 77195)\n",
      "==>> features_dicts: ('global_betweenness', 77195)\n",
      "==>> features_dicts: ('degree', 77195)\n",
      "==>> features_dicts: ('global_degree', 77195)\n",
      "==>> features_dicts: ('eigenvector', 77195)\n",
      "==>> features_dicts: ('closeness', 77195)\n",
      "==>> features_dicts: ('pagerank', 77195)\n",
      "==>> features_dicts: ('global_pagerank', 77195)\n",
      "==>> features_dicts: ('k_core', 77195)\n",
      "==>> features_dicts: ('k_truss', 77195)\n",
      "==>> features_dicts: ('mv', 77195)\n"
     ]
    }
   ],
   "source": [
    "features_dicts = {}\n",
    "for measure in dataset.cn_measures:\n",
    "    features_dicts[measure] = nx.get_node_attributes(G, measure)\n",
    "    print(f\"==>> features_dicts: {measure , len(features_dicts[measure])}\")\n",
    "    \n",
    "for feature in dataset.network_features:\n",
    "        if feature[:3] == \"src\":\n",
    "            df[feature] = df.apply(\n",
    "                lambda row: features_dicts[feature[4:]].get(row[dataset.src_ip_col], -1), axis=1)\n",
    "        if feature[:3] == \"dst\":\n",
    "            df[feature] = df.apply(\n",
    "                lambda row: features_dicts[feature[4:]].get(row[dataset.dst_ip_col], -1), axis=1)"
   ]
  },
  {
   "cell_type": "code",
   "execution_count": 37,
   "id": "8e7a4574-408a-468a-825e-18f9d821138b",
   "metadata": {},
   "outputs": [
    {
     "data": {
      "text/html": [
       "<div>\n",
       "<style scoped>\n",
       "    .dataframe tbody tr th:only-of-type {\n",
       "        vertical-align: middle;\n",
       "    }\n",
       "\n",
       "    .dataframe tbody tr th {\n",
       "        vertical-align: top;\n",
       "    }\n",
       "\n",
       "    .dataframe thead th {\n",
       "        text-align: right;\n",
       "    }\n",
       "</style>\n",
       "<table border=\"1\" class=\"dataframe\">\n",
       "  <thead>\n",
       "    <tr style=\"text-align: right;\">\n",
       "      <th></th>\n",
       "      <th>Flow ID</th>\n",
       "      <th>Src IP</th>\n",
       "      <th>Src Port</th>\n",
       "      <th>Dst IP</th>\n",
       "      <th>Dst Port</th>\n",
       "      <th>Protocol</th>\n",
       "      <th>Timestamp</th>\n",
       "      <th>Flow Duration</th>\n",
       "      <th>Tot Fwd Pkts</th>\n",
       "      <th>Tot Bwd Pkts</th>\n",
       "      <th>...</th>\n",
       "      <th>src_pagerank</th>\n",
       "      <th>dst_pagerank</th>\n",
       "      <th>src_global_pagerank</th>\n",
       "      <th>dst_global_pagerank</th>\n",
       "      <th>src_k_core</th>\n",
       "      <th>dst_k_core</th>\n",
       "      <th>src_k_truss</th>\n",
       "      <th>dst_k_truss</th>\n",
       "      <th>src_mv</th>\n",
       "      <th>dst_mv</th>\n",
       "    </tr>\n",
       "  </thead>\n",
       "  <tbody>\n",
       "    <tr>\n",
       "      <th>4013820</th>\n",
       "      <td>192.168.1.36-192.168.1.1-47392-53-17</td>\n",
       "      <td>192.168.1.36</td>\n",
       "      <td>47392.0</td>\n",
       "      <td>192.168.1.1</td>\n",
       "      <td>53.0</td>\n",
       "      <td>17.0</td>\n",
       "      <td>27/04/2019 03:28:20 pm</td>\n",
       "      <td>6525.0</td>\n",
       "      <td>2.0</td>\n",
       "      <td>2.0</td>\n",
       "      <td>...</td>\n",
       "      <td>0.000063</td>\n",
       "      <td>0.000046</td>\n",
       "      <td>0.000032</td>\n",
       "      <td>0.000030</td>\n",
       "      <td>1.000000</td>\n",
       "      <td>1.000000</td>\n",
       "      <td>0.583333</td>\n",
       "      <td>0.666667</td>\n",
       "      <td>0.000412</td>\n",
       "      <td>0.000271</td>\n",
       "    </tr>\n",
       "    <tr>\n",
       "      <th>4013821</th>\n",
       "      <td>141.189.192.168-1.195.192.168-0-0-0</td>\n",
       "      <td>141.189.192.168</td>\n",
       "      <td>0.0</td>\n",
       "      <td>1.195.192.168</td>\n",
       "      <td>0.0</td>\n",
       "      <td>0.0</td>\n",
       "      <td>30/04/2019 12:29:04 am</td>\n",
       "      <td>2.0</td>\n",
       "      <td>2.0</td>\n",
       "      <td>0.0</td>\n",
       "      <td>...</td>\n",
       "      <td>0.000005</td>\n",
       "      <td>0.019318</td>\n",
       "      <td>0.000013</td>\n",
       "      <td>0.000330</td>\n",
       "      <td>0.444444</td>\n",
       "      <td>0.666667</td>\n",
       "      <td>0.250000</td>\n",
       "      <td>0.416667</td>\n",
       "      <td>-0.000003</td>\n",
       "      <td>-0.004418</td>\n",
       "    </tr>\n",
       "    <tr>\n",
       "      <th>4013822</th>\n",
       "      <td>18.194.169.124-192.168.1.32-80-44722-6</td>\n",
       "      <td>18.194.169.124</td>\n",
       "      <td>80.0</td>\n",
       "      <td>192.168.1.32</td>\n",
       "      <td>44722.0</td>\n",
       "      <td>6.0</td>\n",
       "      <td>27/04/2019 03:52:52 pm</td>\n",
       "      <td>721437.0</td>\n",
       "      <td>5.0</td>\n",
       "      <td>5.0</td>\n",
       "      <td>...</td>\n",
       "      <td>0.000015</td>\n",
       "      <td>0.000058</td>\n",
       "      <td>0.000013</td>\n",
       "      <td>0.000032</td>\n",
       "      <td>0.888889</td>\n",
       "      <td>1.000000</td>\n",
       "      <td>0.166667</td>\n",
       "      <td>0.583333</td>\n",
       "      <td>0.000119</td>\n",
       "      <td>0.000456</td>\n",
       "    </tr>\n",
       "    <tr>\n",
       "      <th>4013823</th>\n",
       "      <td>176.28.50.165-192.168.1.39-80-55972-6</td>\n",
       "      <td>176.28.50.165</td>\n",
       "      <td>80.0</td>\n",
       "      <td>192.168.1.39</td>\n",
       "      <td>55972.0</td>\n",
       "      <td>6.0</td>\n",
       "      <td>27/04/2019 06:06:28 pm</td>\n",
       "      <td>2289.0</td>\n",
       "      <td>1.0</td>\n",
       "      <td>1.0</td>\n",
       "      <td>...</td>\n",
       "      <td>0.000015</td>\n",
       "      <td>0.000071</td>\n",
       "      <td>0.000013</td>\n",
       "      <td>0.000021</td>\n",
       "      <td>0.888889</td>\n",
       "      <td>1.000000</td>\n",
       "      <td>0.166667</td>\n",
       "      <td>0.666667</td>\n",
       "      <td>0.000119</td>\n",
       "      <td>0.000479</td>\n",
       "    </tr>\n",
       "    <tr>\n",
       "      <th>4013824</th>\n",
       "      <td>192.168.1.195-192.168.1.79-60700-9197-6</td>\n",
       "      <td>192.168.1.195</td>\n",
       "      <td>60700.0</td>\n",
       "      <td>192.168.1.79</td>\n",
       "      <td>9197.0</td>\n",
       "      <td>6.0</td>\n",
       "      <td>27/04/2019 06:05:15 pm</td>\n",
       "      <td>22093.0</td>\n",
       "      <td>4.0</td>\n",
       "      <td>13.0</td>\n",
       "      <td>...</td>\n",
       "      <td>0.000444</td>\n",
       "      <td>0.000017</td>\n",
       "      <td>0.000102</td>\n",
       "      <td>0.000016</td>\n",
       "      <td>1.000000</td>\n",
       "      <td>0.666667</td>\n",
       "      <td>1.000000</td>\n",
       "      <td>0.500000</td>\n",
       "      <td>0.002097</td>\n",
       "      <td>0.000091</td>\n",
       "    </tr>\n",
       "  </tbody>\n",
       "</table>\n",
       "<p>5 rows × 106 columns</p>\n",
       "</div>"
      ],
      "text/plain": [
       "                                         Flow ID           Src IP  Src Port  \\\n",
       "4013820     192.168.1.36-192.168.1.1-47392-53-17     192.168.1.36   47392.0   \n",
       "4013821      141.189.192.168-1.195.192.168-0-0-0  141.189.192.168       0.0   \n",
       "4013822   18.194.169.124-192.168.1.32-80-44722-6   18.194.169.124      80.0   \n",
       "4013823    176.28.50.165-192.168.1.39-80-55972-6    176.28.50.165      80.0   \n",
       "4013824  192.168.1.195-192.168.1.79-60700-9197-6    192.168.1.195   60700.0   \n",
       "\n",
       "                Dst IP  Dst Port  Protocol               Timestamp  \\\n",
       "4013820    192.168.1.1      53.0      17.0  27/04/2019 03:28:20 pm   \n",
       "4013821  1.195.192.168       0.0       0.0  30/04/2019 12:29:04 am   \n",
       "4013822   192.168.1.32   44722.0       6.0  27/04/2019 03:52:52 pm   \n",
       "4013823   192.168.1.39   55972.0       6.0  27/04/2019 06:06:28 pm   \n",
       "4013824   192.168.1.79    9197.0       6.0  27/04/2019 06:05:15 pm   \n",
       "\n",
       "         Flow Duration  Tot Fwd Pkts  Tot Bwd Pkts  ...  src_pagerank  \\\n",
       "4013820         6525.0           2.0           2.0  ...      0.000063   \n",
       "4013821            2.0           2.0           0.0  ...      0.000005   \n",
       "4013822       721437.0           5.0           5.0  ...      0.000015   \n",
       "4013823         2289.0           1.0           1.0  ...      0.000015   \n",
       "4013824        22093.0           4.0          13.0  ...      0.000444   \n",
       "\n",
       "         dst_pagerank  src_global_pagerank  dst_global_pagerank  src_k_core  \\\n",
       "4013820      0.000046             0.000032             0.000030    1.000000   \n",
       "4013821      0.019318             0.000013             0.000330    0.444444   \n",
       "4013822      0.000058             0.000013             0.000032    0.888889   \n",
       "4013823      0.000071             0.000013             0.000021    0.888889   \n",
       "4013824      0.000017             0.000102             0.000016    1.000000   \n",
       "\n",
       "         dst_k_core  src_k_truss  dst_k_truss    src_mv    dst_mv  \n",
       "4013820    1.000000     0.583333     0.666667  0.000412  0.000271  \n",
       "4013821    0.666667     0.250000     0.416667 -0.000003 -0.004418  \n",
       "4013822    1.000000     0.166667     0.583333  0.000119  0.000456  \n",
       "4013823    1.000000     0.166667     0.666667  0.000119  0.000479  \n",
       "4013824    0.666667     1.000000     0.500000  0.002097  0.000091  \n",
       "\n",
       "[5 rows x 106 columns]"
      ]
     },
     "execution_count": 37,
     "metadata": {},
     "output_type": "execute_result"
    }
   ],
   "source": [
    "df.head()"
   ]
  },
  {
   "cell_type": "code",
   "execution_count": 38,
   "id": "ab422311-15b7-44f5-b225-5c7b9f5557b2",
   "metadata": {},
   "outputs": [],
   "source": [
    "pd.to_pickle(df, new_path)"
   ]
  },
  {
   "cell_type": "code",
   "execution_count": 39,
   "id": "ddb13f35-45b1-4356-a3b1-b12ab8d9b068",
   "metadata": {},
   "outputs": [],
   "source": [
    "#from unfied_features import create_unified_features"
   ]
  },
  {
   "cell_type": "code",
   "execution_count": 2,
   "id": "d0c2e695-46d6-4bc9-b0de-3ff8add9b0d6",
   "metadata": {},
   "outputs": [
    {
     "name": "stdout",
     "output_type": "stream",
     "text": [
      "dataset: partition_3\n"
     ]
    }
   ],
   "source": [
    "dataset = datasets[5]\n",
    "name = dataset.name\n",
    "print(\"dataset: {}\".format(name))\n",
    "\n",
    "new_path = \"./datasets/preprocessed/{}.pkl\".format(name)\n",
    "graph_path = \"./datasets/preprocessed/graph_{}.gexf\".format(name)\n",
    "G = nx.read_gexf(graph_path)"
   ]
  },
  {
   "cell_type": "code",
   "execution_count": 41,
   "id": "f80250a2-7a59-4f8c-a630-ab33caf44c46",
   "metadata": {},
   "outputs": [
    {
     "name": "stdout",
     "output_type": "stream",
     "text": [
      "(77195, 15)\n",
      "[[ 0.00000000e+00  0.00000000e+00  0.00000000e+00  1.29543747e-05\n",
      "   0.00000000e+00  0.00000000e+00  3.69547853e-13  0.00000000e+00\n",
      "   5.03761292e-06  0.00000000e+00  1.26880411e-05  1.11111111e-01\n",
      "   1.66666667e-01  0.00000000e+00  1.64462121e-05]\n",
      " [ 0.00000000e+00  0.00000000e+00  0.00000000e+00  2.59087494e-05\n",
      "   0.00000000e+00  0.00000000e+00  3.69547853e-13  0.00000000e+00\n",
      "   5.03761292e-06  0.00000000e+00  1.26880411e-05  2.22222222e-01\n",
      "   1.66666667e-01  0.00000000e+00 -5.98429096e-07]\n",
      " [ 0.00000000e+00  0.00000000e+00  0.00000000e+00  1.29543747e-05\n",
      "   0.00000000e+00  0.00000000e+00  3.69547853e-13  0.00000000e+00\n",
      "   5.03761292e-06  0.00000000e+00  1.26880411e-05  1.11111111e-01\n",
      "   1.66666667e-01  0.00000000e+00  1.59856786e-05]\n",
      " [ 0.00000000e+00  0.00000000e+00  0.00000000e+00  9.06806228e-04\n",
      "   0.00000000e+00  0.00000000e+00  2.84921395e-10  9.06806228e-04\n",
      "   2.75355286e-04  0.00000000e+00  1.26880411e-05  1.11111111e-01\n",
      "   1.66666667e-01  0.00000000e+00  1.03301511e-03]\n",
      " [ 0.00000000e+00  0.00000000e+00  0.00000000e+00  1.29543747e-05\n",
      "   0.00000000e+00  0.00000000e+00  3.69547853e-13  0.00000000e+00\n",
      "   5.03761292e-06  0.00000000e+00  1.26880411e-05  1.11111111e-01\n",
      "   1.66666667e-01  0.00000000e+00  5.73901312e-07]]\n"
     ]
    }
   ],
   "source": [
    "\"\"\"network4_features = create_unified_features(G, dataset)\n",
    "print(network4_features.shape)\n",
    "print(network4_features[:5])  # Slicing to get the first 5 rows"
   ]
  },
  {
   "cell_type": "code",
   "execution_count": 4,
   "id": "465c2979-c485-4b14-8678-ba6a92ddc1cc",
   "metadata": {},
   "outputs": [],
   "source": [
    "from autoencoder import extract_features, build_autoencoder\n",
    "import numpy as np\n",
    "from tensorflow.keras import layers, Model"
   ]
  },
  {
   "cell_type": "code",
   "execution_count": 5,
   "id": "406f0218-656b-44a4-905d-7ecb525831ed",
   "metadata": {},
   "outputs": [],
   "source": [
    "network4_features = extract_features(G, dataset.cn_measures)"
   ]
  },
  {
   "cell_type": "code",
   "execution_count": 6,
   "id": "e26585c3-e20f-4f53-a879-1b6a496ba15a",
   "metadata": {},
   "outputs": [
    {
     "name": "stdout",
     "output_type": "stream",
     "text": [
      "[[ 0.00000000e+00  0.00000000e+00  1.29543747e-05 ...  1.11111111e-01\n",
      "   1.66666667e-01  1.64462121e-05]\n",
      " [ 0.00000000e+00  0.00000000e+00  2.59087494e-05 ...  2.22222222e-01\n",
      "   1.66666667e-01 -5.98429096e-07]\n",
      " [ 0.00000000e+00  0.00000000e+00  1.29543747e-05 ...  1.11111111e-01\n",
      "   1.66666667e-01  1.59856786e-05]\n",
      " ...\n",
      " [ 0.00000000e+00  0.00000000e+00  1.29543747e-05 ...  1.11111111e-01\n",
      "   1.66666667e-01  1.63993973e-05]\n",
      " [ 0.00000000e+00  0.00000000e+00  3.88631241e-05 ...  3.33333333e-01\n",
      "   2.50000000e-01 -1.77077864e-06]\n",
      " [ 0.00000000e+00  0.00000000e+00  1.29543747e-05 ...  1.11111111e-01\n",
      "   1.66666667e-01  1.63638151e-05]]\n"
     ]
    }
   ],
   "source": [
    "print(network4_features)"
   ]
  },
  {
   "cell_type": "code",
   "execution_count": 47,
   "id": "439c8eda-1b79-4dd9-885b-590f202a9e20",
   "metadata": {},
   "outputs": [
    {
     "name": "stdout",
     "output_type": "stream",
     "text": [
      "Epoch 1/100\n"
     ]
    },
    {
     "name": "stderr",
     "output_type": "stream",
     "text": [
      "2025-02-26 13:01:05.533801: W tensorflow/core/common_runtime/gpu/gpu_device.cc:2256] Cannot dlopen some GPU libraries. Please make sure the missing libraries mentioned above are installed properly if you would like to use GPU. Follow the guide at https://www.tensorflow.org/install/gpu for how to download and setup the required libraries for your platform.\n",
      "Skipping registering GPU devices...\n"
     ]
    },
    {
     "name": "stdout",
     "output_type": "stream",
     "text": [
      "1930/1930 [==============================] - 3s 1ms/step - loss: 1.7123e-04 - val_loss: 1.3941e-05\n",
      "Epoch 2/100\n",
      "1930/1930 [==============================] - 2s 1ms/step - loss: 5.3674e-06 - val_loss: 1.2605e-06\n",
      "Epoch 3/100\n",
      "1930/1930 [==============================] - 2s 1ms/step - loss: 2.3756e-06 - val_loss: 1.0028e-06\n",
      "Epoch 4/100\n",
      "1930/1930 [==============================] - 2s 1ms/step - loss: 2.0250e-06 - val_loss: 1.1071e-06\n",
      "Epoch 5/100\n",
      "1930/1930 [==============================] - 2s 1ms/step - loss: 1.7467e-06 - val_loss: 7.9588e-07\n",
      "Epoch 6/100\n",
      "1930/1930 [==============================] - 2s 1ms/step - loss: 1.5007e-06 - val_loss: 8.3800e-07\n",
      "Epoch 7/100\n",
      "1930/1930 [==============================] - 2s 1ms/step - loss: 1.3971e-06 - val_loss: 7.2026e-07\n",
      "Epoch 8/100\n",
      "1930/1930 [==============================] - 2s 1ms/step - loss: 1.3021e-06 - val_loss: 7.1533e-07\n",
      "Epoch 9/100\n",
      "1930/1930 [==============================] - 2s 1ms/step - loss: 1.3189e-06 - val_loss: 7.4775e-07\n",
      "Epoch 10/100\n",
      "1930/1930 [==============================] - 2s 1ms/step - loss: 1.2413e-06 - val_loss: 6.9038e-07\n",
      "Epoch 11/100\n",
      "1930/1930 [==============================] - 2s 1ms/step - loss: 1.1557e-06 - val_loss: 7.2825e-07\n",
      "Epoch 12/100\n",
      "1930/1930 [==============================] - 2s 1ms/step - loss: 1.1030e-06 - val_loss: 6.4869e-07\n",
      "Epoch 13/100\n",
      "1930/1930 [==============================] - 2s 1ms/step - loss: 1.0102e-06 - val_loss: 6.7590e-07\n",
      "Epoch 14/100\n",
      "1930/1930 [==============================] - 2s 1ms/step - loss: 9.1774e-07 - val_loss: 5.4825e-07\n",
      "Epoch 15/100\n",
      "1930/1930 [==============================] - 2s 1ms/step - loss: 7.9204e-07 - val_loss: 5.2358e-07\n",
      "Epoch 16/100\n",
      "1930/1930 [==============================] - 2s 1ms/step - loss: 6.7735e-07 - val_loss: 4.5999e-07\n",
      "Epoch 17/100\n",
      "1930/1930 [==============================] - 2s 1ms/step - loss: 5.5461e-07 - val_loss: 3.8513e-07\n",
      "Epoch 18/100\n",
      "1930/1930 [==============================] - 2s 1ms/step - loss: 4.4026e-07 - val_loss: 4.5098e-07\n",
      "Epoch 19/100\n",
      "1930/1930 [==============================] - 2s 1ms/step - loss: 3.4716e-07 - val_loss: 3.1169e-07\n",
      "Epoch 20/100\n",
      "1930/1930 [==============================] - 2s 1ms/step - loss: 2.8807e-07 - val_loss: 2.3992e-07\n",
      "Epoch 21/100\n",
      "1930/1930 [==============================] - 2s 1ms/step - loss: 2.0632e-07 - val_loss: 1.9821e-07\n",
      "Epoch 22/100\n",
      "1930/1930 [==============================] - 2s 1ms/step - loss: 1.5979e-07 - val_loss: 1.6282e-07\n",
      "Epoch 23/100\n",
      "1930/1930 [==============================] - 2s 1ms/step - loss: 1.2691e-07 - val_loss: 1.4627e-07\n",
      "Epoch 24/100\n",
      "1930/1930 [==============================] - 2s 1ms/step - loss: 9.1937e-08 - val_loss: 1.1091e-07\n",
      "Epoch 25/100\n",
      "1930/1930 [==============================] - 2s 1ms/step - loss: 8.3233e-08 - val_loss: 9.2756e-08\n",
      "Epoch 26/100\n",
      "1930/1930 [==============================] - 2s 1ms/step - loss: 6.4298e-08 - val_loss: 8.8128e-08\n",
      "Epoch 27/100\n",
      "1930/1930 [==============================] - 2s 1ms/step - loss: 5.9636e-08 - val_loss: 7.4287e-08\n",
      "Epoch 28/100\n",
      "1930/1930 [==============================] - 2s 1ms/step - loss: 5.3355e-08 - val_loss: 7.4617e-08\n",
      "Epoch 29/100\n",
      "1930/1930 [==============================] - 2s 1ms/step - loss: 5.2879e-08 - val_loss: 6.8212e-08\n",
      "Epoch 30/100\n",
      "1930/1930 [==============================] - 2s 1ms/step - loss: 6.1759e-08 - val_loss: 6.3591e-08\n",
      "Epoch 31/100\n",
      "1930/1930 [==============================] - 2s 1ms/step - loss: 4.6896e-08 - val_loss: 6.3350e-08\n",
      "Epoch 32/100\n",
      "1930/1930 [==============================] - 2s 1ms/step - loss: 5.8097e-08 - val_loss: 6.4290e-08\n",
      "Epoch 33/100\n",
      "1930/1930 [==============================] - 2s 1ms/step - loss: 5.3833e-08 - val_loss: 6.0463e-08\n",
      "Epoch 34/100\n",
      "1930/1930 [==============================] - 2s 1ms/step - loss: 4.9753e-08 - val_loss: 5.9950e-08\n",
      "Epoch 35/100\n",
      "1930/1930 [==============================] - 2s 1ms/step - loss: 5.0274e-08 - val_loss: 6.2600e-08\n",
      "Epoch 36/100\n",
      "1930/1930 [==============================] - 2s 1ms/step - loss: 5.1635e-08 - val_loss: 5.8354e-08\n",
      "Epoch 37/100\n",
      "1930/1930 [==============================] - 2s 1ms/step - loss: 5.2170e-08 - val_loss: 5.7540e-08\n",
      "Epoch 38/100\n",
      "1930/1930 [==============================] - 2s 1ms/step - loss: 4.9847e-08 - val_loss: 5.7899e-08\n",
      "Epoch 39/100\n",
      "1930/1930 [==============================] - 2s 1ms/step - loss: 5.7312e-08 - val_loss: 5.5228e-08\n",
      "Epoch 40/100\n",
      "1930/1930 [==============================] - 2s 1ms/step - loss: 5.0917e-08 - val_loss: 8.0171e-08\n",
      "Epoch 41/100\n",
      "1930/1930 [==============================] - 2s 1ms/step - loss: 5.2785e-08 - val_loss: 5.6913e-08\n",
      "Epoch 42/100\n",
      "1930/1930 [==============================] - 2s 1ms/step - loss: 4.9080e-08 - val_loss: 7.3410e-08\n",
      "Epoch 43/100\n",
      "1930/1930 [==============================] - 2s 1ms/step - loss: 6.1086e-08 - val_loss: 5.2663e-08\n",
      "Epoch 44/100\n",
      "1930/1930 [==============================] - 2s 1ms/step - loss: 4.4551e-08 - val_loss: 6.5975e-08\n",
      "Epoch 45/100\n",
      "1930/1930 [==============================] - 2s 1ms/step - loss: 5.2610e-08 - val_loss: 7.9189e-08\n",
      "Epoch 46/100\n",
      "1930/1930 [==============================] - 2s 1ms/step - loss: 4.9942e-08 - val_loss: 5.4339e-08\n",
      "Epoch 47/100\n",
      "1930/1930 [==============================] - 2s 1ms/step - loss: 5.2457e-08 - val_loss: 5.6864e-08\n",
      "Epoch 48/100\n",
      "1930/1930 [==============================] - 2s 1ms/step - loss: 4.9761e-08 - val_loss: 5.7348e-08\n",
      "Epoch 49/100\n",
      "1930/1930 [==============================] - 2s 1ms/step - loss: 5.5226e-08 - val_loss: 6.9085e-08\n",
      "Epoch 50/100\n",
      "1930/1930 [==============================] - 2s 1ms/step - loss: 5.0747e-08 - val_loss: 6.3928e-08\n",
      "Epoch 51/100\n",
      "1930/1930 [==============================] - 2s 1ms/step - loss: 4.7957e-08 - val_loss: 6.4640e-08\n",
      "Epoch 52/100\n",
      "1930/1930 [==============================] - 2s 1ms/step - loss: 5.4190e-08 - val_loss: 5.5239e-08\n",
      "Epoch 53/100\n",
      "1930/1930 [==============================] - 2s 1ms/step - loss: 4.8662e-08 - val_loss: 6.1469e-08\n",
      "Epoch 54/100\n",
      "1930/1930 [==============================] - 2s 1ms/step - loss: 4.6247e-08 - val_loss: 6.2164e-08\n",
      "Epoch 55/100\n",
      "1930/1930 [==============================] - 2s 1ms/step - loss: 4.5259e-08 - val_loss: 5.2801e-08\n",
      "Epoch 56/100\n",
      "1930/1930 [==============================] - 2s 1ms/step - loss: 5.9054e-08 - val_loss: 6.0829e-08\n",
      "Epoch 57/100\n",
      "1930/1930 [==============================] - 2s 1ms/step - loss: 4.6574e-08 - val_loss: 5.5942e-08\n",
      "Epoch 58/100\n",
      "1930/1930 [==============================] - 2s 1ms/step - loss: 5.0780e-08 - val_loss: 5.7071e-08\n",
      "Epoch 59/100\n",
      "1930/1930 [==============================] - 2s 1ms/step - loss: 4.8838e-08 - val_loss: 5.2547e-08\n",
      "Epoch 60/100\n",
      "1930/1930 [==============================] - 2s 1ms/step - loss: 5.2119e-08 - val_loss: 5.5888e-08\n",
      "Epoch 61/100\n",
      "1930/1930 [==============================] - 2s 1ms/step - loss: 5.4029e-08 - val_loss: 6.3384e-08\n",
      "Epoch 62/100\n",
      "1930/1930 [==============================] - 2s 1ms/step - loss: 4.7061e-08 - val_loss: 6.5626e-08\n",
      "Epoch 63/100\n",
      "1930/1930 [==============================] - 2s 1ms/step - loss: 4.9732e-08 - val_loss: 5.4868e-08\n",
      "Epoch 64/100\n",
      "1930/1930 [==============================] - 2s 1ms/step - loss: 5.5017e-08 - val_loss: 5.7151e-08\n",
      "Epoch 65/100\n",
      "1930/1930 [==============================] - 2s 1ms/step - loss: 4.8563e-08 - val_loss: 5.5926e-08\n",
      "Epoch 66/100\n",
      "1930/1930 [==============================] - 2s 1ms/step - loss: 5.5193e-08 - val_loss: 1.1683e-07\n",
      "Epoch 67/100\n",
      "1930/1930 [==============================] - 2s 1ms/step - loss: 4.8862e-08 - val_loss: 1.2376e-07\n",
      "Epoch 68/100\n",
      "1930/1930 [==============================] - 2s 1ms/step - loss: 5.1296e-08 - val_loss: 5.4803e-08\n",
      "Epoch 69/100\n",
      "1930/1930 [==============================] - 2s 1ms/step - loss: 5.3309e-08 - val_loss: 5.4352e-08\n",
      "Epoch 70/100\n",
      "1930/1930 [==============================] - 2s 1ms/step - loss: 5.0787e-08 - val_loss: 5.4561e-08\n",
      "Epoch 71/100\n",
      "1930/1930 [==============================] - 2s 1ms/step - loss: 5.0060e-08 - val_loss: 5.9389e-08\n",
      "Epoch 72/100\n",
      "1930/1930 [==============================] - 2s 1ms/step - loss: 5.0116e-08 - val_loss: 5.7448e-08\n",
      "Epoch 73/100\n",
      "1930/1930 [==============================] - 2s 1ms/step - loss: 4.8197e-08 - val_loss: 5.4057e-08\n",
      "Epoch 74/100\n",
      "1930/1930 [==============================] - 2s 1ms/step - loss: 4.9231e-08 - val_loss: 6.6502e-08\n",
      "Epoch 75/100\n",
      "1930/1930 [==============================] - 2s 1ms/step - loss: 5.1406e-08 - val_loss: 5.8955e-08\n",
      "Epoch 76/100\n",
      "1930/1930 [==============================] - 2s 1ms/step - loss: 5.6920e-08 - val_loss: 5.7570e-08\n",
      "Epoch 77/100\n",
      "1930/1930 [==============================] - 2s 1ms/step - loss: 4.6952e-08 - val_loss: 6.3412e-08\n",
      "Epoch 78/100\n",
      "1930/1930 [==============================] - 2s 1ms/step - loss: 4.8988e-08 - val_loss: 6.7379e-08\n",
      "Epoch 79/100\n",
      "1930/1930 [==============================] - 2s 1ms/step - loss: 5.0551e-08 - val_loss: 6.0610e-08\n",
      "Epoch 80/100\n",
      "1930/1930 [==============================] - 2s 1ms/step - loss: 5.0404e-08 - val_loss: 9.1398e-08\n",
      "Epoch 81/100\n",
      "1930/1930 [==============================] - 2s 1ms/step - loss: 4.6655e-08 - val_loss: 6.3250e-08\n",
      "Epoch 82/100\n",
      "1930/1930 [==============================] - 2s 1ms/step - loss: 4.7550e-08 - val_loss: 1.4566e-07\n",
      "Epoch 83/100\n",
      "1930/1930 [==============================] - 2s 1ms/step - loss: 4.9787e-08 - val_loss: 6.0118e-08\n",
      "Epoch 84/100\n",
      "1930/1930 [==============================] - 2s 1ms/step - loss: 5.6808e-08 - val_loss: 3.3297e-07\n",
      "Epoch 85/100\n",
      "1930/1930 [==============================] - 2s 1ms/step - loss: 4.8747e-08 - val_loss: 5.6111e-08\n",
      "Epoch 86/100\n",
      "1930/1930 [==============================] - 2s 1ms/step - loss: 4.7556e-08 - val_loss: 6.6262e-08\n",
      "Epoch 87/100\n",
      "1930/1930 [==============================] - 2s 1ms/step - loss: 5.1598e-08 - val_loss: 7.1615e-08\n",
      "Epoch 88/100\n",
      "1930/1930 [==============================] - 2s 1ms/step - loss: 5.3448e-08 - val_loss: 7.5229e-08\n",
      "Epoch 89/100\n",
      "1930/1930 [==============================] - 2s 1ms/step - loss: 4.5246e-08 - val_loss: 6.0534e-08\n",
      "Epoch 90/100\n",
      "1930/1930 [==============================] - 2s 1ms/step - loss: 6.0465e-08 - val_loss: 6.6665e-08\n",
      "Epoch 91/100\n",
      "1930/1930 [==============================] - 2s 1ms/step - loss: 4.8008e-08 - val_loss: 5.9129e-08\n",
      "Epoch 92/100\n",
      "1930/1930 [==============================] - 2s 1ms/step - loss: 4.7976e-08 - val_loss: 5.7395e-08\n",
      "Epoch 93/100\n",
      "1930/1930 [==============================] - 2s 1ms/step - loss: 5.5070e-08 - val_loss: 6.7146e-08\n",
      "Epoch 94/100\n",
      "1930/1930 [==============================] - 2s 1ms/step - loss: 4.7065e-08 - val_loss: 6.5127e-08\n",
      "Epoch 95/100\n",
      "1930/1930 [==============================] - 2s 1ms/step - loss: 4.8150e-08 - val_loss: 6.2831e-08\n",
      "Epoch 96/100\n",
      "1930/1930 [==============================] - 2s 1ms/step - loss: 5.0392e-08 - val_loss: 7.0656e-08\n",
      "Epoch 97/100\n",
      "1930/1930 [==============================] - 2s 1ms/step - loss: 4.8362e-08 - val_loss: 6.9769e-08\n",
      "Epoch 98/100\n",
      "1930/1930 [==============================] - 2s 1ms/step - loss: 5.0388e-08 - val_loss: 5.9310e-08\n",
      "Epoch 99/100\n",
      "1930/1930 [==============================] - 2s 1ms/step - loss: 5.6226e-08 - val_loss: 8.2904e-08\n",
      "Epoch 100/100\n",
      "1930/1930 [==============================] - 2s 1ms/step - loss: 4.6081e-08 - val_loss: 6.2158e-08\n"
     ]
    },
    {
     "data": {
      "text/plain": [
       "<keras.src.callbacks.History at 0x7fa0559b6bf0>"
      ]
     },
     "execution_count": 47,
     "metadata": {},
     "output_type": "execute_result"
    }
   ],
   "source": [
    "# Store input dimension\n",
    "input_dim = len(dataset.cn_measures)  # Input dimension\n",
    "# Build and train the autoencoder\n",
    "autoencoder = build_autoencoder(input_dim)\n",
    "autoencoder.fit(network4_features, network4_features, epochs=100, batch_size=32, validation_split=0.2)"
   ]
  },
  {
   "cell_type": "code",
   "execution_count": 48,
   "id": "6bfb8842-ddf7-4701-a68b-1d366d9d50fd",
   "metadata": {},
   "outputs": [
    {
     "name": "stdout",
     "output_type": "stream",
     "text": [
      "2413/2413 [==============================] - 2s 819us/step\n",
      "Latent vectors shape: (77195, 7)\n"
     ]
    }
   ],
   "source": [
    "# Extract latent vectors\n",
    "encoder = Model(inputs=autoencoder.input, outputs=autoencoder.layers[1].output)\n",
    "latent_vectors = encoder.predict(network4_features)\n",
    "\n",
    "# Print latent vectors shape\n",
    "print(\"Latent vectors shape:\", latent_vectors.shape)"
   ]
  },
  {
   "cell_type": "code",
   "execution_count": 49,
   "id": "163996ee-8b0b-47f4-b555-cce2577785b5",
   "metadata": {},
   "outputs": [
    {
     "name": "stdout",
     "output_type": "stream",
     "text": [
      "[[0.12415282 0.         0.02429291 0.         0.12671897 0.02076196\n",
      "  0.        ]\n",
      " [0.180379   0.         0.07920459 0.         0.11015292 0.02350754\n",
      "  0.        ]\n",
      " [0.12415282 0.         0.0242929  0.         0.12671895 0.02076199\n",
      "  0.        ]\n",
      " [0.12399453 0.         0.02375165 0.         0.12626277 0.02171947\n",
      "  0.        ]\n",
      " [0.12415272 0.         0.02429252 0.         0.12671857 0.02076272\n",
      "  0.        ]\n",
      " [0.12415282 0.         0.0242929  0.         0.12671895 0.02076199\n",
      "  0.        ]\n",
      " [0.12415272 0.         0.02429252 0.         0.12671857 0.02076272\n",
      "  0.        ]\n",
      " [0.12415272 0.         0.02429252 0.         0.12671857 0.02076272\n",
      "  0.        ]\n",
      " [0.180379   0.         0.07920459 0.         0.11015292 0.02350754\n",
      "  0.        ]\n",
      " [0.12415272 0.         0.02429252 0.         0.12671857 0.02076272\n",
      "  0.        ]\n",
      " [0.12415272 0.         0.02429252 0.         0.12671857 0.02076272\n",
      "  0.        ]\n",
      " [0.12415282 0.         0.0242929  0.         0.12671895 0.02076199\n",
      "  0.        ]]\n"
     ]
    }
   ],
   "source": [
    "print(latent_vectors[:12])  # Print the first 12 rows"
   ]
  },
  {
   "cell_type": "code",
   "execution_count": null,
   "id": "7acac92d-0082-4d55-ad06-3067b8b31932",
   "metadata": {},
   "outputs": [],
   "source": []
  }
 ],
 "metadata": {
  "kernelspec": {
   "display_name": "Python 3 (ipykernel)",
   "language": "python",
   "name": "python3"
  },
  "language_info": {
   "codemirror_mode": {
    "name": "ipython",
    "version": 3
   },
   "file_extension": ".py",
   "mimetype": "text/x-python",
   "name": "python",
   "nbconvert_exporter": "python",
   "pygments_lexer": "ipython3",
   "version": "3.10.12"
  }
 },
 "nbformat": 4,
 "nbformat_minor": 5
}
