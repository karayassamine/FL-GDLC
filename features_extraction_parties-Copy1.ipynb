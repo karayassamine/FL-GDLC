{
 "cells": [
  {
   "cell_type": "code",
   "execution_count": 2,
   "id": "4bb60a41-3e57-4486-a7d4-e461c788f1ee",
   "metadata": {},
   "outputs": [],
   "source": [
    "import json\n",
    "import pandas as pd\n",
    "import networkx as nx\n",
    "import matplotlib.pyplot as plt\n",
    "import numpy as np\n",
    "\n",
    "# datasets is a list of available datasets descriptions containing: path, key columns names, and suitable complex network features\n",
    "from src.data.dataset_info import datasets\n"
   ]
  },
  {
   "cell_type": "code",
   "execution_count": 3,
   "id": "3400bd71-031d-4a99-8f0f-1780138a6d36",
   "metadata": {},
   "outputs": [
    {
     "name": "stdout",
     "output_type": "stream",
     "text": [
      "dataset: partition_1\n"
     ]
    }
   ],
   "source": [
    "dataset = datasets[3]\n",
    "name = dataset.name\n",
    "print(\"dataset: {}\".format(name))\n",
    "\n",
    "path = \"./datasets/partitions/{}.pkl\".format(name)\n",
    "new_path = \"./datasets/preprocessed/{}.pkl\".format(name)\n",
    "graph_path = \"./datasets/preprocessed/graph_{}.gexf\".format(name)\n",
    "df = pd.read_pickle(path)"
   ]
  },
  {
   "cell_type": "code",
   "execution_count": null,
   "id": "9413d2a7-8350-484f-b0b5-0b48819ab14a",
   "metadata": {},
   "outputs": [],
   "source": [
    "# converting all infinity values into nan then dropping all records containing nan values\n",
    "df.replace([np.inf, -np.inf], np.nan, inplace=True)\n",
    "df.dropna(axis=0, how='any', inplace=True)\n",
    "\n",
    "df.drop_duplicates(subset=list(set(df.columns) - set([dataset.timestamp_col, dataset.flow_id_col])), keep=\"first\", inplace=True)"
   ]
  },
  {
   "cell_type": "code",
   "execution_count": null,
   "id": "126545ed-8eb4-422b-976e-01c51ac5b3cc",
   "metadata": {},
   "outputs": [],
   "source": [
    "total_count = len(df)\n",
    "\n",
    "properties = {\n",
    "    \"name\": dataset.name,\n",
    "    \"length\": total_count,\n",
    "}\n",
    "\n",
    "num_benign = len(df[df['Label'] == 0])\n",
    "num_attack = len(df[df['Label'] == 1])\n",
    "\n",
    "properties[\"num_benign\"] = num_benign\n",
    "properties[\"percentage_of_benign_records\"] = ((num_benign * 100)/total_count)\n",
    "\n",
    "properties[\"num_attack\"] = num_attack\n",
    "properties[\"percentage_of_attack_records\"] = ((num_attack * 100)/total_count)\n",
    "\n",
    "properties[\"attacks\"] = list(df[\"Attack\"].unique())  # .to_list()\n",
    "\n",
    "filename = ('./datasets_properties/{}.json'.format(dataset.name))\n",
    "outfile = open(filename, 'w')\n",
    "outfile.writelines(json.dumps(properties))\n",
    "outfile.close()"
   ]
  },
  {
   "cell_type": "code",
   "execution_count": null,
   "id": "40512608-733b-4f3a-a890-999d5e33cd1c",
   "metadata": {},
   "outputs": [],
   "source": [
    "G = nx.from_pandas_edgelist(\n",
    "        df,\n",
    "        source=dataset.src_ip_col,\n",
    "        target=dataset.dst_ip_col,\n",
    "        create_using=nx.DiGraph()\n",
    "    )"
   ]
  },
  {
   "cell_type": "code",
   "execution_count": null,
   "id": "da621b31-2470-4c8b-a1ea-b1b84176a306",
   "metadata": {},
   "outputs": [],
   "source": [
    "G.remove_nodes_from(list(nx.isolates(G)))"
   ]
  },
  {
   "cell_type": "code",
   "execution_count": null,
   "id": "7d32ed11-2727-4fc9-8f2a-52a9670df9ff",
   "metadata": {},
   "outputs": [],
   "source": [
    "import igraph as ig\n",
    "G1 = ig.Graph.from_networkx(G)\n",
    "part = G1.community_infomap()\n",
    "\n",
    "communities = []\n",
    "for com in part:\n",
    "    communities.append([G1.vs[node_index]['_nx_name'] for node_index in com])\n",
    "\n",
    "print(f\"==>> number of communities: {len(communities)}\")\n",
    "for com in communities:\n",
    "    print(f\"==>> com: {len(com)}\")"
   ]
  },
  {
   "cell_type": "code",
   "execution_count": null,
   "id": "34cf03ac-fb52-4b95-8f09-49e999851d6f",
   "metadata": {},
   "outputs": [],
   "source": [
    "properties = {}\n",
    "\n",
    "properties[\"number_of_nodes\"] = G.number_of_nodes()\n",
    "properties[\"number_of_edges\"] = G.number_of_edges()\n",
    "\n",
    "degrees = [degree for _, degree in G.degree()]\n",
    "properties[\"max_degree\"] = max(degrees)\n",
    "properties[\"avg_degree\"] = sum(degrees) / len(degrees)"
   ]
  },
  {
   "cell_type": "code",
   "execution_count": null,
   "id": "14a6904a-0e92-484c-9d87-a3633a2e779b",
   "metadata": {},
   "outputs": [],
   "source": [
    "properties[\"transitivity\"] = nx.transitivity(G)\n"
   ]
  },
  {
   "cell_type": "code",
   "execution_count": null,
   "id": "778d1d32-98ca-4623-8d12-5c429e82fa51",
   "metadata": {},
   "outputs": [],
   "source": [
    "properties[\"density\"] =  nx.density(G)\n"
   ]
  },
  {
   "cell_type": "code",
   "execution_count": null,
   "id": "c84b5059-0d44-4851-acb2-33ff6566a13e",
   "metadata": {},
   "outputs": [],
   "source": [
    "# Assuming G is your graph and communities is a list of sets, where each set contains the nodes in a community\n",
    "\n",
    "# Step 1: Map each node to its community\n",
    "node_to_community = {}\n",
    "for community_index, community in enumerate(communities):\n",
    "    for node in community:\n",
    "        node_to_community[node] = community_index\n",
    "\n",
    "# Step 2: Count inter-cluster edges efficiently\n",
    "inter_cluster_edges = 0\n",
    "for u, v in G.edges():\n",
    "    # Directly check if u and v belong to different communities\n",
    "    if node_to_community[u] != node_to_community[v]:\n",
    "        inter_cluster_edges += 1\n",
    "\n",
    "\n",
    "properties[\"mixing_parameter\"] = inter_cluster_edges / G.number_of_edges()"
   ]
  },
  {
   "cell_type": "code",
   "execution_count": null,
   "id": "6d27d91b-2846-4048-93eb-4bcc69c9796d",
   "metadata": {},
   "outputs": [],
   "source": [
    "properties[\"modularity\"] = nx.community.modularity(G, communities)"
   ]
  },
  {
   "cell_type": "code",
   "execution_count": null,
   "id": "6f1460cb-44a8-42f8-b110-4688414db830",
   "metadata": {},
   "outputs": [],
   "source": [
    "filename = ('./datasets_properties/{}.json'.format(\"graph_\" + name))\n",
    "outfile = open(filename, 'w')\n",
    "outfile.writelines(json.dumps(properties))\n",
    "outfile.close()\n",
    "\n",
    "properties"
   ]
  },
  {
   "cell_type": "code",
   "execution_count": null,
   "id": "38046237-daac-4eee-a4c3-e7f143d687bd",
   "metadata": {},
   "outputs": [],
   "source": [
    "community_labels = {}\n",
    "for i, community in enumerate(communities):\n",
    "    for node in community:\n",
    "        community_labels[node] = i\n",
    "\n",
    "nx.set_node_attributes(G, community_labels, \"new_community\")"
   ]
  },
  {
   "cell_type": "code",
   "execution_count": null,
   "id": "e56cff90-9cc3-44e3-aff8-5a22d8580bd3",
   "metadata": {},
   "outputs": [],
   "source": [
    "# getting inter and itra graph, to calculate the local and global variations of each centrality\n",
    "from src.network.network_features import separate_graph\n",
    "\n",
    "intra_graph, inter_graph = separate_graph(G, communities)"
   ]
  },
  {
   "cell_type": "code",
   "execution_count": null,
   "id": "4c6d02a5-acfe-4475-9871-149fb4415d4e",
   "metadata": {},
   "outputs": [],
   "source": [
    "from src.network.network_features import cal_betweenness_centrality\n",
    "\n",
    "if \"betweenness\" in dataset.cn_measures:\n",
    "    nx.set_node_attributes(G, cal_betweenness_centrality(G), \"betweenness\")\n",
    "    print(\"calculated\")"
   ]
  },
  {
   "cell_type": "code",
   "execution_count": null,
   "id": "28536767-934f-45d3-a39f-24443c89f276",
   "metadata": {},
   "outputs": [],
   "source": [
    "if \"local_betweenness\" in dataset.cn_measures:\n",
    "    nx.set_node_attributes(G, cal_betweenness_centrality(intra_graph), \"local_betweenness\")\n",
    "    print(\"calculated\")"
   ]
  },
  {
   "cell_type": "code",
   "execution_count": null,
   "id": "4d487ada-284b-40ef-9ef4-13b40b1a205f",
   "metadata": {},
   "outputs": [],
   "source": [
    "if \"global_betweenness\" in dataset.cn_measures:\n",
    "    nx.set_node_attributes(G, cal_betweenness_centrality(inter_graph), \"global_betweenness\")\n",
    "    print(\"calculated\")"
   ]
  },
  {
   "cell_type": "code",
   "execution_count": null,
   "id": "96c0f129-d93e-453f-bf89-e790e516050b",
   "metadata": {},
   "outputs": [],
   "source": [
    "if \"degree\" in dataset.cn_measures:\n",
    "    nx.set_node_attributes(G, nx.degree_centrality(G), \"degree\")\n",
    "    print(\"calculated\")"
   ]
  },
  {
   "cell_type": "code",
   "execution_count": null,
   "id": "01422d27-9004-4527-86a0-8bdcdc95d602",
   "metadata": {},
   "outputs": [],
   "source": [
    "if \"local_degree\" in dataset.cn_measures:\n",
    "    nx.set_node_attributes(G, nx.degree_centrality(intra_graph), \"local_degree\")\n",
    "    print(\"calculated\")"
   ]
  },
  {
   "cell_type": "code",
   "execution_count": null,
   "id": "cb36d8e9-295d-41ea-8b02-a603771b939a",
   "metadata": {},
   "outputs": [],
   "source": [
    "if \"global_degree\" in dataset.cn_measures:\n",
    "    nx.set_node_attributes(G, nx.degree_centrality(inter_graph), \"global_degree\")\n",
    "    print(\"calculated\")"
   ]
  },
  {
   "cell_type": "code",
   "execution_count": null,
   "id": "97ae0663-c6e7-43eb-a2de-589d03c7e51e",
   "metadata": {},
   "outputs": [],
   "source": [
    "if \"eigenvector\" in dataset.cn_measures:\n",
    "    nx.set_node_attributes(G, nx.eigenvector_centrality(G, max_iter=600), \"eigenvector\")\n",
    "    print(\"calculated\")\n"
   ]
  },
  {
   "cell_type": "code",
   "execution_count": null,
   "id": "93750982-3ba7-43f4-9c51-2642cb8800cb",
   "metadata": {},
   "outputs": [],
   "source": [
    "if \"local_eigenvector\" in dataset.cn_measures:\n",
    "    nx.set_node_attributes(G, nx.eigenvector_centrality(intra_graph), \"local_eigenvector\")\n",
    "    print(\"calculated\")"
   ]
  },
  {
   "cell_type": "code",
   "execution_count": null,
   "id": "bea033c9-ef24-4175-8cfe-a7e6ca66bfae",
   "metadata": {},
   "outputs": [],
   "source": [
    "if \"global_eigenvector\" in dataset.cn_measures:\n",
    "    nx.set_node_attributes(G, nx.eigenvector_centrality(inter_graph), \"global_eigenvector\")\n",
    "    print(\"calculated\")"
   ]
  },
  {
   "cell_type": "code",
   "execution_count": null,
   "id": "c89bdcfa-687c-424b-b238-fd55e90ec5cd",
   "metadata": {},
   "outputs": [],
   "source": [
    "if \"closeness\" in dataset.cn_measures:\n",
    "    nx.set_node_attributes(G, nx.closeness_centrality(G), \"closeness\")\n",
    "    print(\"calculated\")"
   ]
  },
  {
   "cell_type": "code",
   "execution_count": null,
   "id": "f84325a7-fbf1-4ed9-be30-b090a13f03bd",
   "metadata": {},
   "outputs": [],
   "source": [
    "if \"local_closeness\" in dataset.cn_measures:\n",
    "    nx.set_node_attributes(G, nx.closeness_centrality(intra_graph), \"local_closeness\")\n",
    "    print(\"calculated\")"
   ]
  },
  {
   "cell_type": "code",
   "execution_count": null,
   "id": "4879d55d-e998-4705-b2ef-c98ac1ce196a",
   "metadata": {},
   "outputs": [],
   "source": [
    "if \"global_closeness\" in dataset.cn_measures:\n",
    "    nx.set_node_attributes(G, nx.closeness_centrality(inter_graph), \"global_closeness\")\n",
    "    print(\"calculated\")"
   ]
  },
  {
   "cell_type": "code",
   "execution_count": null,
   "id": "3a444163-e8d6-424d-879d-9a563b8f9b90",
   "metadata": {},
   "outputs": [],
   "source": [
    "if \"pagerank\" in dataset.cn_measures:\n",
    "    nx.set_node_attributes(G, nx.pagerank(G, alpha=0.85), \"pagerank\")\n",
    "    print(\"calculated\")"
   ]
  },
  {
   "cell_type": "code",
   "execution_count": null,
   "id": "fb638344-8331-40fc-b4ab-286e6b4ca6e8",
   "metadata": {},
   "outputs": [],
   "source": [
    "if \"local_pagerank\" in dataset.cn_measures:\n",
    "    nx.set_node_attributes(G, nx.pagerank(intra_graph, alpha=0.85), \"local_pagerank\")\n",
    "    print(\"calculated\")"
   ]
  },
  {
   "cell_type": "code",
   "execution_count": null,
   "id": "6de09219-dce8-449a-9134-77d464f4b843",
   "metadata": {},
   "outputs": [],
   "source": [
    "if \"global_pagerank\" in dataset.cn_measures:\n",
    "    nx.set_node_attributes(G, nx.pagerank(inter_graph, alpha=0.85), \"global_pagerank\")\n",
    "    print(\"calculated\")"
   ]
  },
  {
   "cell_type": "code",
   "execution_count": null,
   "id": "d7a8ee20-2611-4521-97d0-37cba355ddff",
   "metadata": {},
   "outputs": [],
   "source": [
    "from src.network.network_features import cal_k_core\n",
    "\n",
    "if \"k_core\" in dataset.cn_measures:\n",
    "    nx.set_node_attributes(G, cal_k_core(G), \"k_core\")\n",
    "    print(\"calculated\")"
   ]
  },
  {
   "cell_type": "code",
   "execution_count": null,
   "id": "5e2a4d1a-5131-44f2-be30-42e0f5c76d80",
   "metadata": {},
   "outputs": [],
   "source": [
    "from src.network.network_features import cal_k_truss\n",
    "if \"k_truss\" in dataset.cn_measures:\n",
    "    nx.set_node_attributes(G, cal_k_truss(G), \"k_truss\")\n",
    "    print(\"calculated\")"
   ]
  },
  {
   "cell_type": "code",
   "execution_count": null,
   "id": "8807b29f-dd90-4b35-8718-d965d1f31345",
   "metadata": {},
   "outputs": [],
   "source": [
    "from src.network.CommCentralityCode import comm_centreality\n",
    "\n",
    "if \"Comm\" in dataset.cn_measures:\n",
    "    nx.set_node_attributes(G, comm_centreality(G, community_labels), \"Comm\")\n",
    "    print(\"calculated\")"
   ]
  },
  {
   "cell_type": "code",
   "execution_count": null,
   "id": "cdad5541-6021-4741-a12b-8779e2a516f7",
   "metadata": {},
   "outputs": [],
   "source": [
    "from src.network.modularity_vitality import modularity_vitality\n",
    "\n",
    "if \"mv\" in dataset.cn_measures:\n",
    "    nx.set_node_attributes(G, modularity_vitality(G1, part), \"mv\")\n",
    "    print(\"calculated\")"
   ]
  },
  {
   "cell_type": "code",
   "execution_count": null,
   "id": "c7d9ed58-d9e8-49c8-bfa1-8afedb79c661",
   "metadata": {},
   "outputs": [],
   "source": [
    "nx.write_gexf(G, graph_path)"
   ]
  },
  {
   "cell_type": "code",
   "execution_count": null,
   "id": "7b51b9b9-ec5d-43bd-a30f-68a41974ab1c",
   "metadata": {},
   "outputs": [],
   "source": [
    "\"\"\"\n",
    "features_dicts = {}\n",
    "for measure in dataset.cn_measures:\n",
    "    features_dicts[measure] = nx.get_node_attributes(G, measure)\n",
    "    print(f\"==>> features_dicts: {measure , len(features_dicts[measure])}\")\n",
    "    \n",
    "for feature in dataset.network_features:\n",
    "        if feature[:3] == \"src\":\n",
    "            df[feature] = df.apply(\n",
    "                lambda row: features_dicts[feature[4:]].get(row[dataset.src_ip_col], -1), axis=1)\n",
    "        if feature[:3] == \"dst\":\n",
    "            df[feature] = df.apply(\n",
    "                lambda row: features_dicts[feature[4:]].get(row[dataset.dst_ip_col], -1), axis=1)\n",
    "\"\"\""
   ]
  },
  {
   "cell_type": "code",
   "execution_count": null,
   "id": "0669c39e-8c05-44e1-9788-7437b49981ad",
   "metadata": {},
   "outputs": [],
   "source": [
    "#df.head()"
   ]
  },
  {
   "cell_type": "code",
   "execution_count": null,
   "id": "47716594-152f-4883-ac6e-329c7c9ffaeb",
   "metadata": {},
   "outputs": [],
   "source": [
    "#pd.to_pickle(df, new_path)"
   ]
  },
  {
   "cell_type": "code",
   "execution_count": null,
   "id": "07443cc9-66b1-45e9-bb9f-e2f806145503",
   "metadata": {},
   "outputs": [],
   "source": [
    "#from unfied_features import create_unified_features"
   ]
  },
  {
   "cell_type": "code",
   "execution_count": 9,
   "id": "6885cedb-fb1c-4273-8459-d79678194480",
   "metadata": {},
   "outputs": [
    {
     "name": "stdout",
     "output_type": "stream",
     "text": [
      "dataset: partition_1\n"
     ]
    }
   ],
   "source": [
    "dataset = datasets[3]\n",
    "name = dataset.name\n",
    "print(\"dataset: {}\".format(name))\n",
    "\n",
    "new_path = \"./datasets/preprocessed/{}.pkl\".format(name)\n",
    "graph_path = \"./datasets/preprocessed/graph_{}.gexf\".format(name)\n",
    "G = nx.read_gexf(graph_path)\n",
    "\n"
   ]
  },
  {
   "cell_type": "code",
   "execution_count": 11,
   "id": "88cf9ce9-6ed3-47fe-9239-2f231808d570",
   "metadata": {},
   "outputs": [
    {
     "name": "stdout",
     "output_type": "stream",
     "text": [
      "Total columns: 106\n",
      "All column names:\n",
      "['Flow ID', 'Src IP', 'Src Port', 'Dst IP', 'Dst Port', 'Protocol', 'Timestamp', 'Flow Duration', 'Tot Fwd Pkts', 'Tot Bwd Pkts', 'TotLen Fwd Pkts', 'TotLen Bwd Pkts', 'Fwd Pkt Len Max', 'Fwd Pkt Len Min', 'Fwd Pkt Len Mean', 'Fwd Pkt Len Std', 'Bwd Pkt Len Max', 'Bwd Pkt Len Min', 'Bwd Pkt Len Mean', 'Bwd Pkt Len Std', 'Flow Byts/s', 'Flow Pkts/s', 'Flow IAT Mean', 'Flow IAT Std', 'Flow IAT Max', 'Flow IAT Min', 'Fwd IAT Tot', 'Fwd IAT Mean', 'Fwd IAT Max', 'Fwd IAT Min', 'Bwd IAT Tot', 'Bwd IAT Mean', 'Bwd IAT Std', 'Bwd IAT Max', 'Bwd IAT Min', 'Fwd PSH Flags', 'Bwd PSH Flags', 'Fwd URG Flags', 'Bwd URG Flags', 'Fwd Header Len', 'Bwd Header Len', 'Fwd Pkts/s', 'Bwd Pkts/s', 'Pkt Len Min', 'Pkt Len Max', 'Pkt Len Mean', 'Pkt Len Std', 'Pkt Len Var', 'FIN Flag Cnt', 'SYN Flag Cnt', 'RST Flag Cnt', 'PSH Flag Cnt', 'ACK Flag Cnt', 'URG Flag Cnt', 'CWE Flag Count', 'ECE Flag Cnt', 'Down/Up Ratio', 'Pkt Size Avg', 'Fwd Seg Size Avg', 'Bwd Seg Size Avg', 'Fwd Byts/b Avg', 'Fwd Pkts/b Avg', 'Fwd Blk Rate Avg', 'Bwd Byts/b Avg', 'Bwd Pkts/b Avg', 'Bwd Blk Rate Avg', 'Subflow Fwd Pkts', 'Subflow Fwd Byts', 'Subflow Bwd Pkts', 'Subflow Bwd Byts', 'Init Fwd Win Byts', 'Init Bwd Win Byts', 'Fwd Act Data Pkts', 'Fwd Seg Size Min', 'Active Mean', 'Active Std', 'Active Max', 'Active Min', 'Idle Mean', 'Idle Std', 'Idle Max', 'Idle Min', 'Label', 'Attack', 'src_betweenness', 'dst_betweenness', 'src_global_betweenness', 'dst_global_betweenness', 'src_degree', 'dst_degree', 'src_global_degree', 'dst_global_degree', 'src_eigenvector', 'dst_eigenvector', 'src_closeness', 'dst_closeness', 'src_pagerank', 'dst_pagerank', 'src_global_pagerank', 'dst_global_pagerank', 'src_k_core', 'dst_k_core', 'src_k_truss', 'dst_k_truss', 'src_mv', 'dst_mv']\n",
      "\n",
      "Formatted column list:\n",
      "  1. Flow ID\n",
      "  2. Src IP\n",
      "  3. Src Port\n",
      "  4. Dst IP\n",
      "  5. Dst Port\n",
      "  6. Protocol\n",
      "  7. Timestamp\n",
      "  8. Flow Duration\n",
      "  9. Tot Fwd Pkts\n",
      " 10. Tot Bwd Pkts\n",
      " 11. TotLen Fwd Pkts\n",
      " 12. TotLen Bwd Pkts\n",
      " 13. Fwd Pkt Len Max\n",
      " 14. Fwd Pkt Len Min\n",
      " 15. Fwd Pkt Len Mean\n",
      " 16. Fwd Pkt Len Std\n",
      " 17. Bwd Pkt Len Max\n",
      " 18. Bwd Pkt Len Min\n",
      " 19. Bwd Pkt Len Mean\n",
      " 20. Bwd Pkt Len Std\n",
      " 21. Flow Byts/s\n",
      " 22. Flow Pkts/s\n",
      " 23. Flow IAT Mean\n",
      " 24. Flow IAT Std\n",
      " 25. Flow IAT Max\n",
      " 26. Flow IAT Min\n",
      " 27. Fwd IAT Tot\n",
      " 28. Fwd IAT Mean\n",
      " 29. Fwd IAT Max\n",
      " 30. Fwd IAT Min\n",
      " 31. Bwd IAT Tot\n",
      " 32. Bwd IAT Mean\n",
      " 33. Bwd IAT Std\n",
      " 34. Bwd IAT Max\n",
      " 35. Bwd IAT Min\n",
      " 36. Fwd PSH Flags\n",
      " 37. Bwd PSH Flags\n",
      " 38. Fwd URG Flags\n",
      " 39. Bwd URG Flags\n",
      " 40. Fwd Header Len\n",
      " 41. Bwd Header Len\n",
      " 42. Fwd Pkts/s\n",
      " 43. Bwd Pkts/s\n",
      " 44. Pkt Len Min\n",
      " 45. Pkt Len Max\n",
      " 46. Pkt Len Mean\n",
      " 47. Pkt Len Std\n",
      " 48. Pkt Len Var\n",
      " 49. FIN Flag Cnt\n",
      " 50. SYN Flag Cnt\n",
      " 51. RST Flag Cnt\n",
      " 52. PSH Flag Cnt\n",
      " 53. ACK Flag Cnt\n",
      " 54. URG Flag Cnt\n",
      " 55. CWE Flag Count\n",
      " 56. ECE Flag Cnt\n",
      " 57. Down/Up Ratio\n",
      " 58. Pkt Size Avg\n",
      " 59. Fwd Seg Size Avg\n",
      " 60. Bwd Seg Size Avg\n",
      " 61. Fwd Byts/b Avg\n",
      " 62. Fwd Pkts/b Avg\n",
      " 63. Fwd Blk Rate Avg\n",
      " 64. Bwd Byts/b Avg\n",
      " 65. Bwd Pkts/b Avg\n",
      " 66. Bwd Blk Rate Avg\n",
      " 67. Subflow Fwd Pkts\n",
      " 68. Subflow Fwd Byts\n",
      " 69. Subflow Bwd Pkts\n",
      " 70. Subflow Bwd Byts\n",
      " 71. Init Fwd Win Byts\n",
      " 72. Init Bwd Win Byts\n",
      " 73. Fwd Act Data Pkts\n",
      " 74. Fwd Seg Size Min\n",
      " 75. Active Mean\n",
      " 76. Active Std\n",
      " 77. Active Max\n",
      " 78. Active Min\n",
      " 79. Idle Mean\n",
      " 80. Idle Std\n",
      " 81. Idle Max\n",
      " 82. Idle Min\n",
      " 83. Label\n",
      " 84. Attack\n",
      " 85. src_betweenness\n",
      " 86. dst_betweenness\n",
      " 87. src_global_betweenness\n",
      " 88. dst_global_betweenness\n",
      " 89. src_degree\n",
      " 90. dst_degree\n",
      " 91. src_global_degree\n",
      " 92. dst_global_degree\n",
      " 93. src_eigenvector\n",
      " 94. dst_eigenvector\n",
      " 95. src_closeness\n",
      " 96. dst_closeness\n",
      " 97. src_pagerank\n",
      " 98. dst_pagerank\n",
      " 99. src_global_pagerank\n",
      "100. dst_global_pagerank\n",
      "101. src_k_core\n",
      "102. dst_k_core\n",
      "103. src_k_truss\n",
      "104. dst_k_truss\n",
      "105. src_mv\n",
      "106. dst_mv\n"
     ]
    }
   ],
   "source": [
    "import pickle\n",
    "import pandas as pd\n",
    "\n",
    "# Assuming 'name' is defined as in your context\n",
    "new_path = \"./datasets/preprocessed/{}.pkl\".format(name)\n",
    "\n",
    "# Load the dataset from the .pkl file\n",
    "with open(new_path, 'rb') as f:\n",
    "    data = pickle.load(f)\n",
    "\n",
    "# Get all column names\n",
    "if isinstance(data, pd.DataFrame):\n",
    "    columns = data.columns.tolist()\n",
    "    print(f\"Total columns: {len(columns)}\")\n",
    "    print(\"All column names:\")\n",
    "    print(columns)\n",
    "    \n",
    "    # For better visualization of many columns\n",
    "    print(\"\\nFormatted column list:\")\n",
    "    for i, col in enumerate(columns, 1):\n",
    "        print(f\"{i:3}. {col}\")\n",
    "        \n",
    "else:\n",
    "    print(\"Data is not a DataFrame. Actual type:\", type(data))\n",
    "    if hasattr(data, 'columns'):  # Check for other objects with columns\n",
    "        print(\"Alternative columns:\", data.columns)\n",
    "    elif hasattr(data, 'keys'):  # Handle dictionaries\n",
    "        print(\"Dictionary keys:\", list(data.keys())[:106])"
   ]
  },
  {
   "cell_type": "code",
   "execution_count": null,
   "id": "05c7a6bd-e7eb-41b4-b93f-c945b96b308f",
   "metadata": {},
   "outputs": [],
   "source": [
    "\"\"\"network2_features = create_unified_features(G, dataset)\n",
    "print(network2_features.shape)\n",
    "print(network2_features[:5]) \"\"\" # Slicing to get the first 5 rows\n"
   ]
  },
  {
   "cell_type": "code",
   "execution_count": 13,
   "id": "496d9721-2d8f-4d71-8b63-6b7ec78aaa16",
   "metadata": {},
   "outputs": [],
   "source": [
    "from autoencoder import extract_features, build_autoencoder\n",
    "import numpy as np\n",
    "from tensorflow.keras import layers, Model"
   ]
  },
  {
   "cell_type": "code",
   "execution_count": 14,
   "id": "81b12443-7c40-4df6-be9d-ce9c77f686d3",
   "metadata": {},
   "outputs": [],
   "source": [
    "\n",
    "network2_features = extract_features(G, dataset.cn_measures)\n"
   ]
  },
  {
   "cell_type": "raw",
   "id": "1600ebaf-4d20-4f3c-9e57-bc807c4a7ef2",
   "metadata": {},
   "source": [
    "print(network2_features)"
   ]
  },
  {
   "cell_type": "code",
   "execution_count": 15,
   "id": "44f95970-85a9-41b7-9e69-ab7bcb4856e9",
   "metadata": {},
   "outputs": [
    {
     "name": "stdout",
     "output_type": "stream",
     "text": [
      "Epoch 1/100\n",
      "1939/1939 [==============================] - 3s 1ms/step - loss: 0.1631 - val_loss: 0.0447\n",
      "Epoch 2/100\n",
      "1939/1939 [==============================] - 3s 1ms/step - loss: 0.0426 - val_loss: 0.0413\n",
      "Epoch 3/100\n",
      "1939/1939 [==============================] - 3s 1ms/step - loss: 0.0416 - val_loss: 0.0412\n",
      "Epoch 4/100\n",
      "1939/1939 [==============================] - 3s 1ms/step - loss: 0.0416 - val_loss: 0.0412\n",
      "Epoch 5/100\n",
      "1939/1939 [==============================] - 3s 1ms/step - loss: 0.0416 - val_loss: 0.0412\n",
      "Epoch 6/100\n",
      "1939/1939 [==============================] - 3s 1ms/step - loss: 0.0416 - val_loss: 0.0412\n",
      "Epoch 7/100\n",
      "1939/1939 [==============================] - 3s 1ms/step - loss: 0.0415 - val_loss: 0.0412\n",
      "Epoch 8/100\n",
      "1939/1939 [==============================] - 3s 1ms/step - loss: 0.0415 - val_loss: 0.0412\n",
      "Epoch 9/100\n",
      "1939/1939 [==============================] - 3s 1ms/step - loss: 0.0415 - val_loss: 0.0412\n",
      "Epoch 10/100\n",
      "1939/1939 [==============================] - 3s 1ms/step - loss: 0.0415 - val_loss: 0.0412\n",
      "Epoch 11/100\n",
      "1939/1939 [==============================] - 3s 1ms/step - loss: 0.0415 - val_loss: 0.0412\n",
      "Epoch 12/100\n",
      "1939/1939 [==============================] - 3s 1ms/step - loss: 0.0415 - val_loss: 0.0412\n",
      "Epoch 13/100\n",
      "1939/1939 [==============================] - 3s 1ms/step - loss: 0.0415 - val_loss: 0.0412\n",
      "Epoch 14/100\n",
      "1939/1939 [==============================] - 3s 1ms/step - loss: 0.0415 - val_loss: 0.0412\n",
      "Epoch 15/100\n",
      "1939/1939 [==============================] - 3s 1ms/step - loss: 0.0415 - val_loss: 0.0412\n",
      "Epoch 16/100\n",
      "1939/1939 [==============================] - 3s 1ms/step - loss: 0.0415 - val_loss: 0.0412\n",
      "Epoch 17/100\n",
      "1939/1939 [==============================] - 3s 1ms/step - loss: 0.0415 - val_loss: 0.0412\n",
      "Epoch 18/100\n",
      "1939/1939 [==============================] - 3s 1ms/step - loss: 0.0415 - val_loss: 0.0412\n",
      "Epoch 19/100\n",
      "1939/1939 [==============================] - 3s 1ms/step - loss: 0.0415 - val_loss: 0.0412\n",
      "Epoch 20/100\n",
      "1939/1939 [==============================] - 3s 1ms/step - loss: 0.0415 - val_loss: 0.0412\n",
      "Epoch 21/100\n",
      "1939/1939 [==============================] - 3s 1ms/step - loss: 0.0415 - val_loss: 0.0412\n",
      "Epoch 22/100\n",
      "1939/1939 [==============================] - 3s 1ms/step - loss: 0.0415 - val_loss: 0.0412\n",
      "Epoch 23/100\n",
      "1939/1939 [==============================] - 3s 1ms/step - loss: 0.0415 - val_loss: 0.0412\n",
      "Epoch 24/100\n",
      "1939/1939 [==============================] - 3s 1ms/step - loss: 0.0415 - val_loss: 0.0412\n",
      "Epoch 25/100\n",
      "1939/1939 [==============================] - 3s 1ms/step - loss: 0.0415 - val_loss: 0.0412\n",
      "Epoch 26/100\n",
      "1939/1939 [==============================] - 3s 1ms/step - loss: 0.0415 - val_loss: 0.0412\n",
      "Epoch 27/100\n",
      "1939/1939 [==============================] - 3s 1ms/step - loss: 0.0415 - val_loss: 0.0412\n",
      "Epoch 28/100\n",
      "1939/1939 [==============================] - 3s 1ms/step - loss: 0.0414 - val_loss: 0.0412\n",
      "Epoch 29/100\n",
      "1939/1939 [==============================] - 3s 1ms/step - loss: 0.0414 - val_loss: 0.0412\n",
      "Epoch 30/100\n",
      "1939/1939 [==============================] - 3s 1ms/step - loss: 0.0414 - val_loss: 0.0411\n",
      "Epoch 31/100\n",
      "1939/1939 [==============================] - 3s 1ms/step - loss: 0.0414 - val_loss: 0.0411\n",
      "Epoch 32/100\n",
      "1939/1939 [==============================] - 3s 1ms/step - loss: 0.0414 - val_loss: 0.0411\n",
      "Epoch 33/100\n",
      "1939/1939 [==============================] - 3s 1ms/step - loss: 0.0414 - val_loss: 0.0411\n",
      "Epoch 34/100\n",
      "1939/1939 [==============================] - 3s 1ms/step - loss: 0.0414 - val_loss: 0.0411\n",
      "Epoch 35/100\n",
      "1939/1939 [==============================] - 3s 1ms/step - loss: 0.0414 - val_loss: 0.0411\n",
      "Epoch 36/100\n",
      "1939/1939 [==============================] - 3s 1ms/step - loss: 0.0414 - val_loss: 0.0411\n",
      "Epoch 37/100\n",
      "1939/1939 [==============================] - 3s 1ms/step - loss: 0.0414 - val_loss: 0.0411\n",
      "Epoch 38/100\n",
      "1939/1939 [==============================] - 3s 1ms/step - loss: 0.0414 - val_loss: 0.0411\n",
      "Epoch 39/100\n",
      "1939/1939 [==============================] - 3s 1ms/step - loss: 0.0414 - val_loss: 0.0411\n",
      "Epoch 40/100\n",
      "1939/1939 [==============================] - 3s 1ms/step - loss: 0.0414 - val_loss: 0.0411\n",
      "Epoch 41/100\n",
      "1939/1939 [==============================] - 3s 1ms/step - loss: 0.0414 - val_loss: 0.0411\n",
      "Epoch 42/100\n",
      "1939/1939 [==============================] - 3s 1ms/step - loss: 0.0414 - val_loss: 0.0411\n",
      "Epoch 43/100\n",
      "1939/1939 [==============================] - 3s 1ms/step - loss: 0.0414 - val_loss: 0.0411\n",
      "Epoch 44/100\n",
      "1939/1939 [==============================] - 3s 1ms/step - loss: 0.0414 - val_loss: 0.0411\n",
      "Epoch 45/100\n",
      "1939/1939 [==============================] - 3s 1ms/step - loss: 0.0414 - val_loss: 0.0411\n",
      "Epoch 46/100\n",
      "1939/1939 [==============================] - 3s 1ms/step - loss: 0.0414 - val_loss: 0.0411\n",
      "Epoch 47/100\n",
      "1939/1939 [==============================] - 3s 1ms/step - loss: 0.0414 - val_loss: 0.0411\n",
      "Epoch 48/100\n",
      "1939/1939 [==============================] - 3s 1ms/step - loss: 0.0414 - val_loss: 0.0411\n",
      "Epoch 49/100\n",
      "1939/1939 [==============================] - 3s 1ms/step - loss: 0.0414 - val_loss: 0.0411\n",
      "Epoch 50/100\n",
      "1939/1939 [==============================] - 3s 1ms/step - loss: 0.0414 - val_loss: 0.0411\n",
      "Epoch 51/100\n",
      "1939/1939 [==============================] - 3s 1ms/step - loss: 0.0414 - val_loss: 0.0411\n",
      "Epoch 52/100\n",
      "1939/1939 [==============================] - 3s 1ms/step - loss: 0.0414 - val_loss: 0.0411\n",
      "Epoch 53/100\n",
      "1939/1939 [==============================] - 3s 1ms/step - loss: 0.0414 - val_loss: 0.0411\n",
      "Epoch 54/100\n",
      "1939/1939 [==============================] - 3s 1ms/step - loss: 0.0414 - val_loss: 0.0411\n",
      "Epoch 55/100\n",
      "1939/1939 [==============================] - 3s 1ms/step - loss: 0.0414 - val_loss: 0.0411\n",
      "Epoch 56/100\n",
      "1939/1939 [==============================] - 3s 1ms/step - loss: 0.0414 - val_loss: 0.0411\n",
      "Epoch 57/100\n",
      "1939/1939 [==============================] - 3s 1ms/step - loss: 0.0414 - val_loss: 0.0411\n",
      "Epoch 58/100\n",
      "1939/1939 [==============================] - 3s 1ms/step - loss: 0.0414 - val_loss: 0.0411\n",
      "Epoch 59/100\n",
      "1939/1939 [==============================] - 3s 1ms/step - loss: 0.0414 - val_loss: 0.0411\n",
      "Epoch 60/100\n",
      "1939/1939 [==============================] - 3s 1ms/step - loss: 0.0414 - val_loss: 0.0411\n",
      "Epoch 61/100\n",
      "1939/1939 [==============================] - 3s 1ms/step - loss: 0.0414 - val_loss: 0.0411\n",
      "Epoch 62/100\n",
      "1939/1939 [==============================] - 3s 1ms/step - loss: 0.0414 - val_loss: 0.0411\n",
      "Epoch 63/100\n",
      "1939/1939 [==============================] - 3s 1ms/step - loss: 0.0414 - val_loss: 0.0411\n",
      "Epoch 64/100\n",
      "1939/1939 [==============================] - 3s 1ms/step - loss: 0.0414 - val_loss: 0.0411\n",
      "Epoch 65/100\n",
      "1939/1939 [==============================] - 3s 1ms/step - loss: 0.0414 - val_loss: 0.0411\n",
      "Epoch 66/100\n",
      "1939/1939 [==============================] - 3s 1ms/step - loss: 0.0414 - val_loss: 0.0411\n",
      "Epoch 67/100\n",
      "1939/1939 [==============================] - 3s 1ms/step - loss: 0.0414 - val_loss: 0.0411\n",
      "Epoch 68/100\n",
      "1939/1939 [==============================] - 3s 1ms/step - loss: 0.0414 - val_loss: 0.0411\n",
      "Epoch 69/100\n",
      "1939/1939 [==============================] - 3s 1ms/step - loss: 0.0414 - val_loss: 0.0411\n",
      "Epoch 70/100\n",
      "1939/1939 [==============================] - 3s 1ms/step - loss: 0.0414 - val_loss: 0.0411\n",
      "Epoch 71/100\n",
      "1939/1939 [==============================] - 3s 1ms/step - loss: 0.0414 - val_loss: 0.0411\n",
      "Epoch 72/100\n",
      "1939/1939 [==============================] - 3s 1ms/step - loss: 0.0414 - val_loss: 0.0411\n",
      "Epoch 73/100\n",
      "1939/1939 [==============================] - 3s 1ms/step - loss: 0.0414 - val_loss: 0.0411\n",
      "Epoch 74/100\n",
      "1939/1939 [==============================] - 3s 1ms/step - loss: 0.0414 - val_loss: 0.0411\n",
      "Epoch 75/100\n",
      "1939/1939 [==============================] - 3s 1ms/step - loss: 0.0414 - val_loss: 0.0411\n",
      "Epoch 76/100\n",
      "1939/1939 [==============================] - 3s 1ms/step - loss: 0.0414 - val_loss: 0.0411\n",
      "Epoch 77/100\n",
      "1939/1939 [==============================] - 3s 1ms/step - loss: 0.0414 - val_loss: 0.0411\n",
      "Epoch 78/100\n",
      "1939/1939 [==============================] - 3s 1ms/step - loss: 0.0414 - val_loss: 0.0411\n",
      "Epoch 79/100\n",
      "1939/1939 [==============================] - 3s 1ms/step - loss: 0.0414 - val_loss: 0.0411\n",
      "Epoch 80/100\n",
      "1939/1939 [==============================] - 3s 1ms/step - loss: 0.0414 - val_loss: 0.0411\n",
      "Epoch 81/100\n",
      "1939/1939 [==============================] - 3s 1ms/step - loss: 0.0414 - val_loss: 0.0411\n",
      "Epoch 82/100\n",
      "1939/1939 [==============================] - 3s 1ms/step - loss: 0.0414 - val_loss: 0.0411\n",
      "Epoch 83/100\n",
      "1939/1939 [==============================] - 3s 1ms/step - loss: 0.0414 - val_loss: 0.0411\n",
      "Epoch 84/100\n",
      "1939/1939 [==============================] - 3s 1ms/step - loss: 0.0414 - val_loss: 0.0411\n",
      "Epoch 85/100\n",
      "1939/1939 [==============================] - 3s 1ms/step - loss: 0.0414 - val_loss: 0.0411\n",
      "Epoch 86/100\n",
      "1939/1939 [==============================] - 3s 1ms/step - loss: 0.0414 - val_loss: 0.0411\n",
      "Epoch 87/100\n",
      "1939/1939 [==============================] - 3s 1ms/step - loss: 0.0414 - val_loss: 0.0411\n",
      "Epoch 88/100\n",
      "1939/1939 [==============================] - 3s 1ms/step - loss: 0.0414 - val_loss: 0.0411\n",
      "Epoch 89/100\n",
      "1939/1939 [==============================] - 3s 1ms/step - loss: 0.0414 - val_loss: 0.0411\n",
      "Epoch 90/100\n",
      "1939/1939 [==============================] - 3s 1ms/step - loss: 0.0414 - val_loss: 0.0411\n",
      "Epoch 91/100\n",
      "1939/1939 [==============================] - 3s 1ms/step - loss: 0.0414 - val_loss: 0.0411\n",
      "Epoch 92/100\n",
      "1939/1939 [==============================] - 3s 1ms/step - loss: 0.0414 - val_loss: 0.0411\n",
      "Epoch 93/100\n",
      "1939/1939 [==============================] - 3s 1ms/step - loss: 0.0414 - val_loss: 0.0411\n",
      "Epoch 94/100\n",
      "1939/1939 [==============================] - 3s 1ms/step - loss: 0.0414 - val_loss: 0.0411\n",
      "Epoch 95/100\n",
      "1939/1939 [==============================] - 3s 1ms/step - loss: 0.0414 - val_loss: 0.0411\n",
      "Epoch 96/100\n",
      "1939/1939 [==============================] - 3s 1ms/step - loss: 0.0414 - val_loss: 0.0411\n",
      "Epoch 97/100\n",
      "1939/1939 [==============================] - 3s 1ms/step - loss: 0.0414 - val_loss: 0.0411\n",
      "Epoch 98/100\n",
      "1939/1939 [==============================] - 3s 1ms/step - loss: 0.0414 - val_loss: 0.0411\n",
      "Epoch 99/100\n",
      "1939/1939 [==============================] - 3s 1ms/step - loss: 0.0414 - val_loss: 0.0411\n",
      "Epoch 100/100\n",
      "1939/1939 [==============================] - 3s 1ms/step - loss: 0.0414 - val_loss: 0.0411\n"
     ]
    },
    {
     "data": {
      "text/plain": [
       "<keras.src.callbacks.History at 0x7f011cce9d80>"
      ]
     },
     "execution_count": 15,
     "metadata": {},
     "output_type": "execute_result"
    }
   ],
   "source": [
    "# Store input dimension\n",
    "input_dim = len(dataset.cn_measures)  # Input dimension\n",
    "# Build and train the autoencoder\n",
    "autoencoder = build_autoencoder(input_dim)\n",
    "autoencoder.fit(network2_features, network2_features, epochs=100, batch_size=32, validation_split=0.2)"
   ]
  },
  {
   "cell_type": "code",
   "execution_count": 16,
   "id": "0ca797b9-f775-4fb5-9cac-d63908166e14",
   "metadata": {},
   "outputs": [
    {
     "name": "stdout",
     "output_type": "stream",
     "text": [
      "2423/2423 [==============================] - 2s 846us/step\n",
      "Latent vectors shape: (77530, 8)\n"
     ]
    }
   ],
   "source": [
    "# Extract latent vectors\n",
    "encoder = Model(inputs=autoencoder.input, outputs=autoencoder.layers[1].output)\n",
    "latent_vectors = encoder.predict(network2_features)\n",
    "\n",
    "# Print latent vectors shape\n",
    "print(\"Latent vectors shape:\", latent_vectors.shape)"
   ]
  },
  {
   "cell_type": "code",
   "execution_count": 24,
   "id": "e3aa3c74-c0b1-4ede-a0b2-25e056e1b412",
   "metadata": {},
   "outputs": [
    {
     "name": "stdout",
     "output_type": "stream",
     "text": [
      "[[1.7945313e+00 0.0000000e+00 3.8656294e-03 0.0000000e+00 5.5582601e-01\n",
      "  3.2793155e-01 0.0000000e+00 7.5755221e-01]\n",
      " [1.8609260e+00 0.0000000e+00 2.4941714e-01 0.0000000e+00 4.3229628e-01\n",
      "  3.5838300e-01 0.0000000e+00 7.7774745e-01]\n",
      " [1.7897533e+00 0.0000000e+00 7.0978701e-04 0.0000000e+00 5.3963012e-01\n",
      "  3.2724354e-01 0.0000000e+00 7.4095494e-01]\n",
      " [1.7945710e+00 0.0000000e+00 3.8901865e-03 0.0000000e+00 5.5593383e-01\n",
      "  3.2794032e-01 0.0000000e+00 7.5762999e-01]\n",
      " [1.8612460e+00 0.0000000e+00 2.4996580e-01 0.0000000e+00 4.3769318e-01\n",
      "  3.5274291e-01 0.0000000e+00 7.9228544e-01]\n",
      " [1.7945710e+00 0.0000000e+00 3.8901865e-03 0.0000000e+00 5.5593383e-01\n",
      "  3.2794032e-01 0.0000000e+00 7.5762999e-01]\n",
      " [1.7945510e+00 0.0000000e+00 3.8747489e-03 0.0000000e+00 5.5590785e-01\n",
      "  3.2793725e-01 0.0000000e+00 7.5765496e-01]\n",
      " [1.7945710e+00 0.0000000e+00 3.8901865e-03 0.0000000e+00 5.5593383e-01\n",
      "  3.2794032e-01 0.0000000e+00 7.5762999e-01]\n",
      " [1.7945504e+00 0.0000000e+00 3.8742572e-03 0.0000000e+00 5.5590701e-01\n",
      "  3.2793716e-01 0.0000000e+00 7.5765574e-01]\n",
      " [1.9276948e+00 0.0000000e+00 4.9559456e-01 0.0000000e+00 3.1417504e-01\n",
      "  3.8323092e-01 0.0000000e+00 8.1250042e-01]\n",
      " [1.7945710e+00 0.0000000e+00 3.8901865e-03 0.0000000e+00 5.5593383e-01\n",
      "  3.2794032e-01 0.0000000e+00 7.5762999e-01]\n",
      " [1.7945710e+00 0.0000000e+00 3.8901865e-03 0.0000000e+00 5.5593383e-01\n",
      "  3.2794032e-01 0.0000000e+00 7.5762999e-01]]\n"
     ]
    },
    {
     "data": {
      "text/plain": [
       "77530"
      ]
     },
     "execution_count": 24,
     "metadata": {},
     "output_type": "execute_result"
    }
   ],
   "source": [
    "print(latent_vectors[:12])# Print the first 5 rows\n",
    "len(latent_vectors)"
   ]
  },
  {
   "cell_type": "code",
   "execution_count": null,
   "id": "9a45c1ec-7459-4df3-815c-0955803e60db",
   "metadata": {},
   "outputs": [],
   "source": []
  }
 ],
 "metadata": {
  "kernelspec": {
   "display_name": "Python 3 (ipykernel)",
   "language": "python",
   "name": "python3"
  },
  "language_info": {
   "codemirror_mode": {
    "name": "ipython",
    "version": 3
   },
   "file_extension": ".py",
   "mimetype": "text/x-python",
   "name": "python",
   "nbconvert_exporter": "python",
   "pygments_lexer": "ipython3",
   "version": "3.10.12"
  }
 },
 "nbformat": 4,
 "nbformat_minor": 5
}
