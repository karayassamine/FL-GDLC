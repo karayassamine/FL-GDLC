{
 "cells": [
  {
   "cell_type": "code",
   "execution_count": 2,
   "id": "4bb60a41-3e57-4486-a7d4-e461c788f1ee",
   "metadata": {},
   "outputs": [],
   "source": [
    "import json\n",
    "import pandas as pd\n",
    "import networkx as nx\n",
    "import matplotlib.pyplot as plt\n",
    "import numpy as np\n",
    "\n",
    "# datasets is a list of available datasets descriptions containing: path, key columns names, and suitable complex network features\n",
    "from src.data.dataset_info import datasets\n"
   ]
  },
  {
   "cell_type": "code",
   "execution_count": 2,
   "id": "3400bd71-031d-4a99-8f0f-1780138a6d36",
   "metadata": {},
   "outputs": [
    {
     "name": "stdout",
     "output_type": "stream",
     "text": [
      "dataset: partition_1\n"
     ]
    }
   ],
   "source": [
    "dataset = datasets[4]\n",
    "name = dataset.name\n",
    "print(\"dataset: {}\".format(name))\n",
    "\n",
    "path = \"./datasets/partitions/{}.pkl\".format(name)\n",
    "new_path = \"./datasets/preprocessed/{}.pkl\".format(name)\n",
    "graph_path = \"./datasets/preprocessed/graph_{}.gexf\".format(name)\n",
    "df = pd.read_pickle(path)"
   ]
  },
  {
   "cell_type": "code",
   "execution_count": 3,
   "id": "9413d2a7-8350-484f-b0b5-0b48819ab14a",
   "metadata": {},
   "outputs": [],
   "source": [
    "# converting all infinity values into nan then dropping all records containing nan values\n",
    "df.replace([np.inf, -np.inf], np.nan, inplace=True)\n",
    "df.dropna(axis=0, how='any', inplace=True)\n",
    "\n",
    "df.drop_duplicates(subset=list(set(df.columns) - set([dataset.timestamp_col, dataset.flow_id_col])), keep=\"first\", inplace=True)"
   ]
  },
  {
   "cell_type": "code",
   "execution_count": 4,
   "id": "126545ed-8eb4-422b-976e-01c51ac5b3cc",
   "metadata": {},
   "outputs": [],
   "source": [
    "total_count = len(df)\n",
    "\n",
    "properties = {\n",
    "    \"name\": dataset.name,\n",
    "    \"length\": total_count,\n",
    "}\n",
    "\n",
    "num_benign = len(df[df['Label'] == 0])\n",
    "num_attack = len(df[df['Label'] == 1])\n",
    "\n",
    "properties[\"num_benign\"] = num_benign\n",
    "properties[\"percentage_of_benign_records\"] = ((num_benign * 100)/total_count)\n",
    "\n",
    "properties[\"num_attack\"] = num_attack\n",
    "properties[\"percentage_of_attack_records\"] = ((num_attack * 100)/total_count)\n",
    "\n",
    "properties[\"attacks\"] = list(df[\"Attack\"].unique())  # .to_list()\n",
    "\n",
    "filename = ('./datasets_properties/{}.json'.format(dataset.name))\n",
    "outfile = open(filename, 'w')\n",
    "outfile.writelines(json.dumps(properties))\n",
    "outfile.close()"
   ]
  },
  {
   "cell_type": "code",
   "execution_count": 5,
   "id": "40512608-733b-4f3a-a890-999d5e33cd1c",
   "metadata": {},
   "outputs": [],
   "source": [
    "G = nx.from_pandas_edgelist(\n",
    "        df,\n",
    "        source=dataset.src_ip_col,\n",
    "        target=dataset.dst_ip_col,\n",
    "        create_using=nx.DiGraph()\n",
    "    )"
   ]
  },
  {
   "cell_type": "code",
   "execution_count": 6,
   "id": "da621b31-2470-4c8b-a1ea-b1b84176a306",
   "metadata": {},
   "outputs": [],
   "source": [
    "G.remove_nodes_from(list(nx.isolates(G)))"
   ]
  },
  {
   "cell_type": "code",
   "execution_count": 7,
   "id": "7d32ed11-2727-4fc9-8f2a-52a9670df9ff",
   "metadata": {},
   "outputs": [
    {
     "name": "stdout",
     "output_type": "stream",
     "text": [
      "==>> number of communities: 147\n",
      "==>> com: 73\n",
      "==>> com: 89\n",
      "==>> com: 66669\n",
      "==>> com: 684\n",
      "==>> com: 941\n",
      "==>> com: 79\n",
      "==>> com: 65\n",
      "==>> com: 255\n",
      "==>> com: 25\n",
      "==>> com: 56\n",
      "==>> com: 2\n",
      "==>> com: 3343\n",
      "==>> com: 841\n",
      "==>> com: 98\n",
      "==>> com: 106\n",
      "==>> com: 162\n",
      "==>> com: 118\n",
      "==>> com: 547\n",
      "==>> com: 6\n",
      "==>> com: 83\n",
      "==>> com: 85\n",
      "==>> com: 10\n",
      "==>> com: 6\n",
      "==>> com: 92\n",
      "==>> com: 78\n",
      "==>> com: 7\n",
      "==>> com: 474\n",
      "==>> com: 1048\n",
      "==>> com: 37\n",
      "==>> com: 22\n",
      "==>> com: 2\n",
      "==>> com: 7\n",
      "==>> com: 190\n",
      "==>> com: 19\n",
      "==>> com: 12\n",
      "==>> com: 68\n",
      "==>> com: 8\n",
      "==>> com: 2\n",
      "==>> com: 64\n",
      "==>> com: 101\n",
      "==>> com: 10\n",
      "==>> com: 97\n",
      "==>> com: 12\n",
      "==>> com: 125\n",
      "==>> com: 2\n",
      "==>> com: 15\n",
      "==>> com: 2\n",
      "==>> com: 2\n",
      "==>> com: 2\n",
      "==>> com: 2\n",
      "==>> com: 58\n",
      "==>> com: 7\n",
      "==>> com: 2\n",
      "==>> com: 2\n",
      "==>> com: 6\n",
      "==>> com: 3\n",
      "==>> com: 16\n",
      "==>> com: 11\n",
      "==>> com: 37\n",
      "==>> com: 2\n",
      "==>> com: 3\n",
      "==>> com: 87\n",
      "==>> com: 2\n",
      "==>> com: 36\n",
      "==>> com: 2\n",
      "==>> com: 2\n",
      "==>> com: 2\n",
      "==>> com: 39\n",
      "==>> com: 3\n",
      "==>> com: 22\n",
      "==>> com: 2\n",
      "==>> com: 3\n",
      "==>> com: 21\n",
      "==>> com: 9\n",
      "==>> com: 20\n",
      "==>> com: 3\n",
      "==>> com: 16\n",
      "==>> com: 17\n",
      "==>> com: 11\n",
      "==>> com: 2\n",
      "==>> com: 2\n",
      "==>> com: 2\n",
      "==>> com: 8\n",
      "==>> com: 2\n",
      "==>> com: 8\n",
      "==>> com: 2\n",
      "==>> com: 10\n",
      "==>> com: 2\n",
      "==>> com: 19\n",
      "==>> com: 3\n",
      "==>> com: 2\n",
      "==>> com: 2\n",
      "==>> com: 13\n",
      "==>> com: 5\n",
      "==>> com: 9\n",
      "==>> com: 2\n",
      "==>> com: 2\n",
      "==>> com: 2\n",
      "==>> com: 2\n",
      "==>> com: 2\n",
      "==>> com: 5\n",
      "==>> com: 2\n",
      "==>> com: 2\n",
      "==>> com: 26\n",
      "==>> com: 3\n",
      "==>> com: 4\n",
      "==>> com: 2\n",
      "==>> com: 5\n",
      "==>> com: 2\n",
      "==>> com: 2\n",
      "==>> com: 2\n",
      "==>> com: 2\n",
      "==>> com: 2\n",
      "==>> com: 8\n",
      "==>> com: 2\n",
      "==>> com: 2\n",
      "==>> com: 2\n",
      "==>> com: 2\n",
      "==>> com: 2\n",
      "==>> com: 9\n",
      "==>> com: 3\n",
      "==>> com: 2\n",
      "==>> com: 3\n",
      "==>> com: 2\n",
      "==>> com: 2\n",
      "==>> com: 2\n",
      "==>> com: 2\n",
      "==>> com: 2\n",
      "==>> com: 2\n",
      "==>> com: 2\n",
      "==>> com: 2\n",
      "==>> com: 2\n",
      "==>> com: 2\n",
      "==>> com: 2\n",
      "==>> com: 2\n",
      "==>> com: 2\n",
      "==>> com: 2\n",
      "==>> com: 2\n",
      "==>> com: 2\n",
      "==>> com: 2\n",
      "==>> com: 2\n",
      "==>> com: 2\n",
      "==>> com: 2\n",
      "==>> com: 2\n",
      "==>> com: 2\n",
      "==>> com: 2\n",
      "==>> com: 2\n"
     ]
    }
   ],
   "source": [
    "import igraph as ig\n",
    "G1 = ig.Graph.from_networkx(G)\n",
    "part = G1.community_infomap()\n",
    "\n",
    "communities = []\n",
    "for com in part:\n",
    "    communities.append([G1.vs[node_index]['_nx_name'] for node_index in com])\n",
    "\n",
    "print(f\"==>> number of communities: {len(communities)}\")\n",
    "for com in communities:\n",
    "    print(f\"==>> com: {len(com)}\")"
   ]
  },
  {
   "cell_type": "code",
   "execution_count": 8,
   "id": "34cf03ac-fb52-4b95-8f09-49e999851d6f",
   "metadata": {},
   "outputs": [],
   "source": [
    "properties = {}\n",
    "\n",
    "properties[\"number_of_nodes\"] = G.number_of_nodes()\n",
    "properties[\"number_of_edges\"] = G.number_of_edges()\n",
    "\n",
    "degrees = [degree for _, degree in G.degree()]\n",
    "properties[\"max_degree\"] = max(degrees)\n",
    "properties[\"avg_degree\"] = sum(degrees) / len(degrees)"
   ]
  },
  {
   "cell_type": "code",
   "execution_count": 9,
   "id": "14a6904a-0e92-484c-9d87-a3633a2e779b",
   "metadata": {},
   "outputs": [],
   "source": [
    "properties[\"transitivity\"] = nx.transitivity(G)\n"
   ]
  },
  {
   "cell_type": "code",
   "execution_count": 10,
   "id": "778d1d32-98ca-4623-8d12-5c429e82fa51",
   "metadata": {},
   "outputs": [],
   "source": [
    "properties[\"density\"] =  nx.density(G)\n"
   ]
  },
  {
   "cell_type": "code",
   "execution_count": 11,
   "id": "c84b5059-0d44-4851-acb2-33ff6566a13e",
   "metadata": {},
   "outputs": [],
   "source": [
    "# Assuming G is your graph and communities is a list of sets, where each set contains the nodes in a community\n",
    "\n",
    "# Step 1: Map each node to its community\n",
    "node_to_community = {}\n",
    "for community_index, community in enumerate(communities):\n",
    "    for node in community:\n",
    "        node_to_community[node] = community_index\n",
    "\n",
    "# Step 2: Count inter-cluster edges efficiently\n",
    "inter_cluster_edges = 0\n",
    "for u, v in G.edges():\n",
    "    # Directly check if u and v belong to different communities\n",
    "    if node_to_community[u] != node_to_community[v]:\n",
    "        inter_cluster_edges += 1\n",
    "\n",
    "\n",
    "properties[\"mixing_parameter\"] = inter_cluster_edges / G.number_of_edges()"
   ]
  },
  {
   "cell_type": "code",
   "execution_count": 12,
   "id": "6d27d91b-2846-4048-93eb-4bcc69c9796d",
   "metadata": {},
   "outputs": [],
   "source": [
    "properties[\"modularity\"] = nx.community.modularity(G, communities)"
   ]
  },
  {
   "cell_type": "code",
   "execution_count": 13,
   "id": "6f1460cb-44a8-42f8-b110-4688414db830",
   "metadata": {},
   "outputs": [
    {
     "data": {
      "text/plain": [
       "{'number_of_nodes': 77530,\n",
       " 'number_of_edges': 115734,\n",
       " 'max_degree': 24818,\n",
       " 'avg_degree': 2.9855281826389786,\n",
       " 'transitivity': 0.04012570053928307,\n",
       " 'density': 1.925426732344657e-05,\n",
       " 'mixing_parameter': 0.054651182884891215,\n",
       " 'modularity': 0.17697251172536843}"
      ]
     },
     "execution_count": 13,
     "metadata": {},
     "output_type": "execute_result"
    }
   ],
   "source": [
    "filename = ('./datasets_properties/{}.json'.format(\"graph_\" + name))\n",
    "outfile = open(filename, 'w')\n",
    "outfile.writelines(json.dumps(properties))\n",
    "outfile.close()\n",
    "\n",
    "properties"
   ]
  },
  {
   "cell_type": "code",
   "execution_count": 14,
   "id": "38046237-daac-4eee-a4c3-e7f143d687bd",
   "metadata": {},
   "outputs": [],
   "source": [
    "community_labels = {}\n",
    "for i, community in enumerate(communities):\n",
    "    for node in community:\n",
    "        community_labels[node] = i\n",
    "\n",
    "nx.set_node_attributes(G, community_labels, \"new_community\")"
   ]
  },
  {
   "cell_type": "code",
   "execution_count": 15,
   "id": "e1187103-2478-4397-8b7f-c2e9f247e444",
   "metadata": {},
   "outputs": [],
   "source": [
    "# getting inter and itra graph, to calculate the local and global variations of each centrality\n",
    "from src.network.network_features import separate_graph\n",
    "\n",
    "intra_graph, inter_graph = separate_graph(G, communities)"
   ]
  },
  {
   "cell_type": "code",
   "execution_count": 16,
   "id": "8478a345-3bf2-41a9-90de-0e68456c5b3b",
   "metadata": {},
   "outputs": [
    {
     "name": "stdout",
     "output_type": "stream",
     "text": [
      "calculated\n"
     ]
    }
   ],
   "source": [
    "from src.network.network_features import cal_betweenness_centrality\n",
    "\n",
    "if \"betweenness\" in dataset.cn_measures:\n",
    "    nx.set_node_attributes(G, cal_betweenness_centrality(G), \"betweenness\")\n",
    "    print(\"calculated\")"
   ]
  },
  {
   "cell_type": "code",
   "execution_count": 17,
   "id": "e227b75a-729d-44de-94ad-bbb372c9b3b6",
   "metadata": {},
   "outputs": [],
   "source": [
    "if \"local_betweenness\" in dataset.cn_measures:\n",
    "    nx.set_node_attributes(G, cal_betweenness_centrality(intra_graph), \"local_betweenness\")\n",
    "    print(\"calculated\")"
   ]
  },
  {
   "cell_type": "code",
   "execution_count": 18,
   "id": "b0abe3a4-1226-42ba-9251-17bc114e2984",
   "metadata": {},
   "outputs": [
    {
     "name": "stdout",
     "output_type": "stream",
     "text": [
      "calculated\n"
     ]
    }
   ],
   "source": [
    "if \"global_betweenness\" in dataset.cn_measures:\n",
    "    nx.set_node_attributes(G, cal_betweenness_centrality(inter_graph), \"global_betweenness\")\n",
    "    print(\"calculated\")"
   ]
  },
  {
   "cell_type": "code",
   "execution_count": 19,
   "id": "63112f78-63e0-4b9d-992a-43669b881dc2",
   "metadata": {},
   "outputs": [
    {
     "name": "stdout",
     "output_type": "stream",
     "text": [
      "calculated\n"
     ]
    }
   ],
   "source": [
    "if \"degree\" in dataset.cn_measures:\n",
    "    nx.set_node_attributes(G, nx.degree_centrality(G), \"degree\")\n",
    "    print(\"calculated\")"
   ]
  },
  {
   "cell_type": "code",
   "execution_count": 20,
   "id": "b38b4022-33a3-4617-91b6-2be09edafe4b",
   "metadata": {},
   "outputs": [],
   "source": [
    "if \"local_degree\" in dataset.cn_measures:\n",
    "    nx.set_node_attributes(G, nx.degree_centrality(intra_graph), \"local_degree\")\n",
    "    print(\"calculated\")"
   ]
  },
  {
   "cell_type": "code",
   "execution_count": 21,
   "id": "717b7e4a-e2fa-495a-afb7-dce74f77f8d0",
   "metadata": {},
   "outputs": [
    {
     "name": "stdout",
     "output_type": "stream",
     "text": [
      "calculated\n"
     ]
    }
   ],
   "source": [
    "if \"global_degree\" in dataset.cn_measures:\n",
    "    nx.set_node_attributes(G, nx.degree_centrality(inter_graph), \"global_degree\")\n",
    "    print(\"calculated\")"
   ]
  },
  {
   "cell_type": "code",
   "execution_count": 22,
   "id": "44b16d4a-f504-47dc-8b05-adb83605b179",
   "metadata": {},
   "outputs": [
    {
     "name": "stdout",
     "output_type": "stream",
     "text": [
      "calculated\n"
     ]
    }
   ],
   "source": [
    "if \"eigenvector\" in dataset.cn_measures:\n",
    "    nx.set_node_attributes(G, nx.eigenvector_centrality(G, max_iter=600), \"eigenvector\")\n",
    "    print(\"calculated\")\n"
   ]
  },
  {
   "cell_type": "code",
   "execution_count": 23,
   "id": "77611bed-34a0-4989-b6af-643e89cd05ea",
   "metadata": {},
   "outputs": [],
   "source": [
    "if \"local_eigenvector\" in dataset.cn_measures:\n",
    "    nx.set_node_attributes(G, nx.eigenvector_centrality(intra_graph), \"local_eigenvector\")\n",
    "    print(\"calculated\")"
   ]
  },
  {
   "cell_type": "code",
   "execution_count": 24,
   "id": "4e367753-0148-48c7-bd32-d848296190cd",
   "metadata": {},
   "outputs": [],
   "source": [
    "if \"global_eigenvector\" in dataset.cn_measures:\n",
    "    nx.set_node_attributes(G, nx.eigenvector_centrality(inter_graph), \"global_eigenvector\")\n",
    "    print(\"calculated\")"
   ]
  },
  {
   "cell_type": "code",
   "execution_count": 25,
   "id": "363de90e-cc68-4c31-b040-c5bb48d1cfc9",
   "metadata": {},
   "outputs": [
    {
     "name": "stdout",
     "output_type": "stream",
     "text": [
      "calculated\n"
     ]
    }
   ],
   "source": [
    "if \"closeness\" in dataset.cn_measures:\n",
    "    nx.set_node_attributes(G, nx.closeness_centrality(G), \"closeness\")\n",
    "    print(\"calculated\")"
   ]
  },
  {
   "cell_type": "code",
   "execution_count": 26,
   "id": "7b15303d-64f7-4fb1-91e7-be70f18a1328",
   "metadata": {},
   "outputs": [],
   "source": [
    "if \"local_closeness\" in dataset.cn_measures:\n",
    "    nx.set_node_attributes(G, nx.closeness_centrality(intra_graph), \"local_closeness\")\n",
    "    print(\"calculated\")"
   ]
  },
  {
   "cell_type": "code",
   "execution_count": 27,
   "id": "5bb14aff-c05f-4de5-9f64-e416ee61957f",
   "metadata": {},
   "outputs": [],
   "source": [
    "if \"global_closeness\" in dataset.cn_measures:\n",
    "    nx.set_node_attributes(G, nx.closeness_centrality(inter_graph), \"global_closeness\")\n",
    "    print(\"calculated\")"
   ]
  },
  {
   "cell_type": "code",
   "execution_count": 28,
   "id": "de20fda0-766b-4d65-82d5-df3ffecdd376",
   "metadata": {},
   "outputs": [
    {
     "name": "stdout",
     "output_type": "stream",
     "text": [
      "calculated\n"
     ]
    }
   ],
   "source": [
    "if \"pagerank\" in dataset.cn_measures:\n",
    "    nx.set_node_attributes(G, nx.pagerank(G, alpha=0.85), \"pagerank\")\n",
    "    print(\"calculated\")"
   ]
  },
  {
   "cell_type": "code",
   "execution_count": 29,
   "id": "c1aa56fe-ed9f-4cf1-8a56-4be0de12d63f",
   "metadata": {},
   "outputs": [],
   "source": [
    "if \"local_pagerank\" in dataset.cn_measures:\n",
    "    nx.set_node_attributes(G, nx.pagerank(intra_graph, alpha=0.85), \"local_pagerank\")\n",
    "    print(\"calculated\")"
   ]
  },
  {
   "cell_type": "code",
   "execution_count": 30,
   "id": "e8d8bce1-2912-4175-8ea9-ae4cc1657e1c",
   "metadata": {},
   "outputs": [
    {
     "name": "stdout",
     "output_type": "stream",
     "text": [
      "calculated\n"
     ]
    }
   ],
   "source": [
    "if \"global_pagerank\" in dataset.cn_measures:\n",
    "    nx.set_node_attributes(G, nx.pagerank(inter_graph, alpha=0.85), \"global_pagerank\")\n",
    "    print(\"calculated\")"
   ]
  },
  {
   "cell_type": "code",
   "execution_count": 31,
   "id": "62488c34-bd46-4bcd-9fb4-708c80cc8933",
   "metadata": {},
   "outputs": [
    {
     "name": "stdout",
     "output_type": "stream",
     "text": [
      "calculated\n"
     ]
    }
   ],
   "source": [
    "from src.network.network_features import cal_k_core\n",
    "\n",
    "if \"k_core\" in dataset.cn_measures:\n",
    "    nx.set_node_attributes(G, cal_k_core(G), \"k_core\")\n",
    "    print(\"calculated\")"
   ]
  },
  {
   "cell_type": "code",
   "execution_count": 32,
   "id": "dd0736bb-50f5-4e49-890c-3ec8702e81b2",
   "metadata": {},
   "outputs": [
    {
     "name": "stdout",
     "output_type": "stream",
     "text": [
      "calculated\n"
     ]
    }
   ],
   "source": [
    "from src.network.network_features import cal_k_truss\n",
    "if \"k_truss\" in dataset.cn_measures:\n",
    "    nx.set_node_attributes(G, cal_k_truss(G), \"k_truss\")\n",
    "    print(\"calculated\")"
   ]
  },
  {
   "cell_type": "code",
   "execution_count": 33,
   "id": "210b2855-bcd6-4974-bb8a-75d8e0e7f53d",
   "metadata": {},
   "outputs": [],
   "source": [
    "from src.network.CommCentralityCode import comm_centreality\n",
    "\n",
    "if \"Comm\" in dataset.cn_measures:\n",
    "    nx.set_node_attributes(G, comm_centreality(G, community_labels), \"Comm\")\n",
    "    print(\"calculated\")"
   ]
  },
  {
   "cell_type": "code",
   "execution_count": 34,
   "id": "03456123-315d-4234-ac19-aafca424bad5",
   "metadata": {},
   "outputs": [
    {
     "name": "stdout",
     "output_type": "stream",
     "text": [
      "calculated\n"
     ]
    }
   ],
   "source": [
    "from src.network.modularity_vitality import modularity_vitality\n",
    "\n",
    "if \"mv\" in dataset.cn_measures:\n",
    "    nx.set_node_attributes(G, modularity_vitality(G1, part), \"mv\")\n",
    "    print(\"calculated\")"
   ]
  },
  {
   "cell_type": "code",
   "execution_count": 35,
   "id": "72adbe44-238a-4fa6-8ff9-af100b682690",
   "metadata": {},
   "outputs": [],
   "source": [
    "nx.write_gexf(G, graph_path)"
   ]
  },
  {
   "cell_type": "code",
   "execution_count": 36,
   "id": "f63cecce-383b-4497-83bb-69d1a7c20751",
   "metadata": {},
   "outputs": [
    {
     "name": "stdout",
     "output_type": "stream",
     "text": [
      "==>> features_dicts: ('betweenness', 77530)\n",
      "==>> features_dicts: ('global_betweenness', 77530)\n",
      "==>> features_dicts: ('degree', 77530)\n",
      "==>> features_dicts: ('global_degree', 77530)\n",
      "==>> features_dicts: ('eigenvector', 77530)\n",
      "==>> features_dicts: ('closeness', 77530)\n",
      "==>> features_dicts: ('pagerank', 77530)\n",
      "==>> features_dicts: ('global_pagerank', 77530)\n",
      "==>> features_dicts: ('k_core', 77530)\n",
      "==>> features_dicts: ('k_truss', 77530)\n",
      "==>> features_dicts: ('mv', 77530)\n"
     ]
    }
   ],
   "source": [
    "features_dicts = {}\n",
    "for measure in dataset.cn_measures:\n",
    "    features_dicts[measure] = nx.get_node_attributes(G, measure)\n",
    "    print(f\"==>> features_dicts: {measure , len(features_dicts[measure])}\")\n",
    "    \n",
    "for feature in dataset.network_features:\n",
    "        if feature[:3] == \"src\":\n",
    "            df[feature] = df.apply(\n",
    "                lambda row: features_dicts[feature[4:]].get(row[dataset.src_ip_col], -1), axis=1)\n",
    "        if feature[:3] == \"dst\":\n",
    "            df[feature] = df.apply(\n",
    "                lambda row: features_dicts[feature[4:]].get(row[dataset.dst_ip_col], -1), axis=1)"
   ]
  },
  {
   "cell_type": "code",
   "execution_count": 37,
   "id": "8e7a4574-408a-468a-825e-18f9d821138b",
   "metadata": {},
   "outputs": [
    {
     "data": {
      "text/html": [
       "<div>\n",
       "<style scoped>\n",
       "    .dataframe tbody tr th:only-of-type {\n",
       "        vertical-align: middle;\n",
       "    }\n",
       "\n",
       "    .dataframe tbody tr th {\n",
       "        vertical-align: top;\n",
       "    }\n",
       "\n",
       "    .dataframe thead th {\n",
       "        text-align: right;\n",
       "    }\n",
       "</style>\n",
       "<table border=\"1\" class=\"dataframe\">\n",
       "  <thead>\n",
       "    <tr style=\"text-align: right;\">\n",
       "      <th></th>\n",
       "      <th>Flow ID</th>\n",
       "      <th>Src IP</th>\n",
       "      <th>Src Port</th>\n",
       "      <th>Dst IP</th>\n",
       "      <th>Dst Port</th>\n",
       "      <th>Protocol</th>\n",
       "      <th>Timestamp</th>\n",
       "      <th>Flow Duration</th>\n",
       "      <th>Tot Fwd Pkts</th>\n",
       "      <th>Tot Bwd Pkts</th>\n",
       "      <th>...</th>\n",
       "      <th>src_pagerank</th>\n",
       "      <th>dst_pagerank</th>\n",
       "      <th>src_global_pagerank</th>\n",
       "      <th>dst_global_pagerank</th>\n",
       "      <th>src_k_core</th>\n",
       "      <th>dst_k_core</th>\n",
       "      <th>src_k_truss</th>\n",
       "      <th>dst_k_truss</th>\n",
       "      <th>src_mv</th>\n",
       "      <th>dst_mv</th>\n",
       "    </tr>\n",
       "  </thead>\n",
       "  <tbody>\n",
       "    <tr>\n",
       "      <th>1337940</th>\n",
       "      <td>18.194.169.124-192.168.1.36-80-52390-6</td>\n",
       "      <td>18.194.169.124</td>\n",
       "      <td>80.0</td>\n",
       "      <td>192.168.1.36</td>\n",
       "      <td>52390.0</td>\n",
       "      <td>6.0</td>\n",
       "      <td>27/04/2019 03:32:56 pm</td>\n",
       "      <td>742498.0</td>\n",
       "      <td>7.0</td>\n",
       "      <td>6.0</td>\n",
       "      <td>...</td>\n",
       "      <td>0.000013</td>\n",
       "      <td>0.000043</td>\n",
       "      <td>0.000011</td>\n",
       "      <td>0.000086</td>\n",
       "      <td>0.888889</td>\n",
       "      <td>1.000000</td>\n",
       "      <td>0.003361</td>\n",
       "      <td>0.010084</td>\n",
       "      <td>0.000309</td>\n",
       "      <td>0.000616</td>\n",
       "    </tr>\n",
       "    <tr>\n",
       "      <th>1337941</th>\n",
       "      <td>192.168.1.195-192.168.1.39-80-39630-6</td>\n",
       "      <td>192.168.1.195</td>\n",
       "      <td>80.0</td>\n",
       "      <td>192.168.1.39</td>\n",
       "      <td>39630.0</td>\n",
       "      <td>6.0</td>\n",
       "      <td>27/04/2019 10:30:11 pm</td>\n",
       "      <td>15.0</td>\n",
       "      <td>2.0</td>\n",
       "      <td>0.0</td>\n",
       "      <td>...</td>\n",
       "      <td>0.000414</td>\n",
       "      <td>0.000050</td>\n",
       "      <td>0.000252</td>\n",
       "      <td>0.000059</td>\n",
       "      <td>1.000000</td>\n",
       "      <td>1.000000</td>\n",
       "      <td>0.020168</td>\n",
       "      <td>0.011765</td>\n",
       "      <td>0.002155</td>\n",
       "      <td>0.000605</td>\n",
       "    </tr>\n",
       "    <tr>\n",
       "      <th>1337942</th>\n",
       "      <td>192.168.1.35-18.194.169.124-52926-80-6</td>\n",
       "      <td>192.168.1.35</td>\n",
       "      <td>52926.0</td>\n",
       "      <td>18.194.169.124</td>\n",
       "      <td>80.0</td>\n",
       "      <td>6.0</td>\n",
       "      <td>27/04/2019 07:46:40 pm</td>\n",
       "      <td>825916.0</td>\n",
       "      <td>6.0</td>\n",
       "      <td>4.0</td>\n",
       "      <td>...</td>\n",
       "      <td>0.000055</td>\n",
       "      <td>0.000013</td>\n",
       "      <td>0.000055</td>\n",
       "      <td>0.000011</td>\n",
       "      <td>1.000000</td>\n",
       "      <td>0.888889</td>\n",
       "      <td>0.013445</td>\n",
       "      <td>0.003361</td>\n",
       "      <td>0.000614</td>\n",
       "      <td>0.000309</td>\n",
       "    </tr>\n",
       "    <tr>\n",
       "      <th>1337943</th>\n",
       "      <td>98.102.10.246-69.151.192.168-0-0-0</td>\n",
       "      <td>98.102.10.246</td>\n",
       "      <td>0.0</td>\n",
       "      <td>69.151.192.168</td>\n",
       "      <td>0.0</td>\n",
       "      <td>0.0</td>\n",
       "      <td>30/04/2019 12:35:45 am</td>\n",
       "      <td>34488823.0</td>\n",
       "      <td>3.0</td>\n",
       "      <td>0.0</td>\n",
       "      <td>...</td>\n",
       "      <td>0.000005</td>\n",
       "      <td>0.076029</td>\n",
       "      <td>0.000011</td>\n",
       "      <td>0.000011</td>\n",
       "      <td>0.111111</td>\n",
       "      <td>0.222222</td>\n",
       "      <td>0.003361</td>\n",
       "      <td>0.005042</td>\n",
       "      <td>0.000198</td>\n",
       "      <td>-0.030097</td>\n",
       "    </tr>\n",
       "    <tr>\n",
       "      <th>1337944</th>\n",
       "      <td>192.168.1.39-192.168.1.1-45333-53-17</td>\n",
       "      <td>192.168.1.39</td>\n",
       "      <td>45333.0</td>\n",
       "      <td>192.168.1.1</td>\n",
       "      <td>53.0</td>\n",
       "      <td>17.0</td>\n",
       "      <td>27/04/2019 05:52:15 pm</td>\n",
       "      <td>61.0</td>\n",
       "      <td>2.0</td>\n",
       "      <td>2.0</td>\n",
       "      <td>...</td>\n",
       "      <td>0.000050</td>\n",
       "      <td>0.000038</td>\n",
       "      <td>0.000059</td>\n",
       "      <td>0.000054</td>\n",
       "      <td>1.000000</td>\n",
       "      <td>1.000000</td>\n",
       "      <td>0.011765</td>\n",
       "      <td>0.013445</td>\n",
       "      <td>0.000605</td>\n",
       "      <td>0.000473</td>\n",
       "    </tr>\n",
       "  </tbody>\n",
       "</table>\n",
       "<p>5 rows × 106 columns</p>\n",
       "</div>"
      ],
      "text/plain": [
       "                                        Flow ID          Src IP  Src Port  \\\n",
       "1337940  18.194.169.124-192.168.1.36-80-52390-6  18.194.169.124      80.0   \n",
       "1337941   192.168.1.195-192.168.1.39-80-39630-6   192.168.1.195      80.0   \n",
       "1337942  192.168.1.35-18.194.169.124-52926-80-6    192.168.1.35   52926.0   \n",
       "1337943      98.102.10.246-69.151.192.168-0-0-0   98.102.10.246       0.0   \n",
       "1337944    192.168.1.39-192.168.1.1-45333-53-17    192.168.1.39   45333.0   \n",
       "\n",
       "                 Dst IP  Dst Port  Protocol               Timestamp  \\\n",
       "1337940    192.168.1.36   52390.0       6.0  27/04/2019 03:32:56 pm   \n",
       "1337941    192.168.1.39   39630.0       6.0  27/04/2019 10:30:11 pm   \n",
       "1337942  18.194.169.124      80.0       6.0  27/04/2019 07:46:40 pm   \n",
       "1337943  69.151.192.168       0.0       0.0  30/04/2019 12:35:45 am   \n",
       "1337944     192.168.1.1      53.0      17.0  27/04/2019 05:52:15 pm   \n",
       "\n",
       "         Flow Duration  Tot Fwd Pkts  Tot Bwd Pkts  ...  src_pagerank  \\\n",
       "1337940       742498.0           7.0           6.0  ...      0.000013   \n",
       "1337941           15.0           2.0           0.0  ...      0.000414   \n",
       "1337942       825916.0           6.0           4.0  ...      0.000055   \n",
       "1337943     34488823.0           3.0           0.0  ...      0.000005   \n",
       "1337944           61.0           2.0           2.0  ...      0.000050   \n",
       "\n",
       "         dst_pagerank  src_global_pagerank  dst_global_pagerank  src_k_core  \\\n",
       "1337940      0.000043             0.000011             0.000086    0.888889   \n",
       "1337941      0.000050             0.000252             0.000059    1.000000   \n",
       "1337942      0.000013             0.000055             0.000011    1.000000   \n",
       "1337943      0.076029             0.000011             0.000011    0.111111   \n",
       "1337944      0.000038             0.000059             0.000054    1.000000   \n",
       "\n",
       "         dst_k_core  src_k_truss  dst_k_truss    src_mv    dst_mv  \n",
       "1337940    1.000000     0.003361     0.010084  0.000309  0.000616  \n",
       "1337941    1.000000     0.020168     0.011765  0.002155  0.000605  \n",
       "1337942    0.888889     0.013445     0.003361  0.000614  0.000309  \n",
       "1337943    0.222222     0.003361     0.005042  0.000198 -0.030097  \n",
       "1337944    1.000000     0.011765     0.013445  0.000605  0.000473  \n",
       "\n",
       "[5 rows x 106 columns]"
      ]
     },
     "execution_count": 37,
     "metadata": {},
     "output_type": "execute_result"
    }
   ],
   "source": [
    "df.head()"
   ]
  },
  {
   "cell_type": "code",
   "execution_count": 38,
   "id": "ab422311-15b7-44f5-b225-5c7b9f5557b2",
   "metadata": {},
   "outputs": [],
   "source": [
    "pd.to_pickle(df, new_path)"
   ]
  },
  {
   "cell_type": "code",
   "execution_count": 5,
   "id": "ddb13f35-45b1-4356-a3b1-b12ab8d9b068",
   "metadata": {},
   "outputs": [],
   "source": [
    "#from unfied_features import create_unified_features"
   ]
  },
  {
   "cell_type": "code",
   "execution_count": 3,
   "id": "88d70f22-705b-4e63-a260-cb9b7035a23d",
   "metadata": {},
   "outputs": [
    {
     "name": "stdout",
     "output_type": "stream",
     "text": [
      "dataset: partition_2\n"
     ]
    }
   ],
   "source": [
    "dataset = datasets[4]\n",
    "name = dataset.name\n",
    "print(\"dataset: {}\".format(name))\n",
    "\n",
    "new_path = \"./datasets/preprocessed/{}.pkl\".format(name)\n",
    "graph_path = \"./datasets/preprocessed/graph_{}.gexf\".format(name)\n",
    "G = nx.read_gexf(graph_path)"
   ]
  },
  {
   "cell_type": "code",
   "execution_count": 7,
   "id": "7ce4ab27-cc36-4bdb-881e-0330b52dd832",
   "metadata": {},
   "outputs": [
    {
     "name": "stdout",
     "output_type": "stream",
     "text": [
      "(77329, 15)\n",
      "[[0.00000000e+00 0.00000000e+00 0.00000000e+00 1.29319263e-05\n",
      "  0.00000000e+00 0.00000000e+00 3.40761134e-13 0.00000000e+00\n",
      "  5.43512577e-06 0.00000000e+00 8.98679610e-06 1.11111111e-01\n",
      "  2.00000000e-01 0.00000000e+00 1.22176794e-03]\n",
      " [0.00000000e+00 0.00000000e+00 0.00000000e+00 1.29319263e-05\n",
      "  0.00000000e+00 0.00000000e+00 3.40761134e-13 0.00000000e+00\n",
      "  5.43512577e-06 0.00000000e+00 8.98679610e-06 1.11111111e-01\n",
      "  2.00000000e-01 0.00000000e+00 1.20684941e-03]\n",
      " [3.01026387e-08 0.00000000e+00 0.00000000e+00 1.17680530e-03\n",
      "  0.00000000e+00 1.29319263e-05 3.37694284e-10 1.16387337e-03\n",
      "  4.33571723e-04 0.00000000e+00 2.27660522e-05 1.11111111e-01\n",
      "  2.00000000e-01 0.00000000e+00 2.42931761e-03]\n",
      " [0.00000000e+00 0.00000000e+00 0.00000000e+00 1.29319263e-05\n",
      "  0.00000000e+00 0.00000000e+00 3.40761134e-13 0.00000000e+00\n",
      "  5.43512577e-06 0.00000000e+00 8.98679610e-06 1.11111111e-01\n",
      "  2.00000000e-01 0.00000000e+00 1.20684941e-03]\n",
      " [0.00000000e+00 0.00000000e+00 0.00000000e+00 1.29319263e-05\n",
      "  0.00000000e+00 0.00000000e+00 3.40761134e-13 0.00000000e+00\n",
      "  5.43512577e-06 0.00000000e+00 8.98679610e-06 1.11111111e-01\n",
      "  2.00000000e-01 0.00000000e+00 1.20684941e-03]]\n"
     ]
    }
   ],
   "source": [
    "\"\"\"network3_features = create_unified_features(G, dataset)\n",
    "print(network3_features.shape)\n",
    "print(network3_features[:5])  # Slicing to get the first 5 rows"
   ]
  },
  {
   "cell_type": "code",
   "execution_count": 5,
   "id": "1d6ec41d-feb5-43da-b791-c95be4e8d9bf",
   "metadata": {},
   "outputs": [],
   "source": [
    "from autoencoder import extract_features, build_autoencoder\n",
    "import numpy as np\n",
    "from tensorflow.keras import layers, Model"
   ]
  },
  {
   "cell_type": "code",
   "execution_count": 6,
   "id": "b164f3a1-95ce-41f0-b0ef-16230b4a9150",
   "metadata": {},
   "outputs": [
    {
     "name": "stdout",
     "output_type": "stream",
     "text": [
      "[[0.00000000e+00 0.00000000e+00 1.29319263e-05 ... 1.11111111e-01\n",
      "  2.00000000e-01 1.22176794e-03]\n",
      " [0.00000000e+00 0.00000000e+00 1.29319263e-05 ... 1.11111111e-01\n",
      "  2.00000000e-01 1.20684941e-03]\n",
      " [3.01026387e-08 0.00000000e+00 1.17680530e-03 ... 1.11111111e-01\n",
      "  2.00000000e-01 2.42931761e-03]\n",
      " ...\n",
      " [0.00000000e+00 0.00000000e+00 2.58638527e-05 ... 2.22222222e-01\n",
      "  2.00000000e-01 1.20550005e-03]\n",
      " [0.00000000e+00 0.00000000e+00 1.29319263e-05 ... 1.11111111e-01\n",
      "  2.00000000e-01 1.22167293e-03]\n",
      " [0.00000000e+00 0.00000000e+00 1.29319263e-05 ... 1.11111111e-01\n",
      "  2.00000000e-01 1.22167293e-03]]\n"
     ]
    }
   ],
   "source": [
    "network3_features = extract_features(G, dataset.cn_measures)\n",
    "print(network3_features)"
   ]
  },
  {
   "cell_type": "code",
   "execution_count": 13,
   "id": "f73bb66e-7d22-4b8b-bccd-ce33a61ced05",
   "metadata": {},
   "outputs": [
    {
     "name": "stdout",
     "output_type": "stream",
     "text": [
      "Epoch 1/100\n"
     ]
    },
    {
     "name": "stderr",
     "output_type": "stream",
     "text": [
      "2025-02-26 12:49:53.901978: W tensorflow/core/common_runtime/gpu/gpu_device.cc:2256] Cannot dlopen some GPU libraries. Please make sure the missing libraries mentioned above are installed properly if you would like to use GPU. Follow the guide at https://www.tensorflow.org/install/gpu for how to download and setup the required libraries for your platform.\n",
      "Skipping registering GPU devices...\n"
     ]
    },
    {
     "name": "stdout",
     "output_type": "stream",
     "text": [
      "1934/1934 [==============================] - 3s 1ms/step - loss: 2.5847e-04 - val_loss: 1.8114e-05\n",
      "Epoch 2/100\n",
      "1934/1934 [==============================] - 2s 1ms/step - loss: 6.4988e-06 - val_loss: 1.3907e-06\n",
      "Epoch 3/100\n",
      "1934/1934 [==============================] - 2s 1ms/step - loss: 2.1534e-06 - val_loss: 1.5419e-06\n",
      "Epoch 4/100\n",
      "1934/1934 [==============================] - 3s 1ms/step - loss: 1.9932e-06 - val_loss: 1.3078e-06\n",
      "Epoch 5/100\n",
      "1934/1934 [==============================] - 2s 1ms/step - loss: 1.6442e-06 - val_loss: 8.9660e-07\n",
      "Epoch 6/100\n",
      "1934/1934 [==============================] - 2s 1ms/step - loss: 1.0101e-06 - val_loss: 6.5011e-07\n",
      "Epoch 7/100\n",
      "1934/1934 [==============================] - 2s 1ms/step - loss: 7.2710e-07 - val_loss: 7.1700e-07\n",
      "Epoch 8/100\n",
      "1934/1934 [==============================] - 2s 1ms/step - loss: 6.4690e-07 - val_loss: 1.6797e-06\n",
      "Epoch 9/100\n",
      "1934/1934 [==============================] - 2s 1ms/step - loss: 5.3942e-07 - val_loss: 4.1907e-07\n",
      "Epoch 10/100\n",
      "1934/1934 [==============================] - 2s 1ms/step - loss: 4.1906e-07 - val_loss: 3.0755e-07\n",
      "Epoch 11/100\n",
      "1934/1934 [==============================] - 2s 1ms/step - loss: 2.7876e-07 - val_loss: 1.2993e-06\n",
      "Epoch 12/100\n",
      "1934/1934 [==============================] - 2s 1ms/step - loss: 1.9990e-07 - val_loss: 1.3845e-07\n",
      "Epoch 13/100\n",
      "1934/1934 [==============================] - 2s 1ms/step - loss: 1.3546e-07 - val_loss: 2.7257e-07\n",
      "Epoch 14/100\n",
      "1934/1934 [==============================] - 2s 1ms/step - loss: 9.5146e-08 - val_loss: 5.5512e-08\n",
      "Epoch 15/100\n",
      "1934/1934 [==============================] - 2s 1ms/step - loss: 7.5086e-08 - val_loss: 1.2138e-07\n",
      "Epoch 16/100\n",
      "1934/1934 [==============================] - 2s 1ms/step - loss: 6.0484e-08 - val_loss: 2.7502e-08\n",
      "Epoch 17/100\n",
      "1934/1934 [==============================] - 2s 1ms/step - loss: 6.4047e-08 - val_loss: 3.1792e-08\n",
      "Epoch 18/100\n",
      "1934/1934 [==============================] - 2s 1ms/step - loss: 6.4189e-08 - val_loss: 7.3599e-08\n",
      "Epoch 19/100\n",
      "1934/1934 [==============================] - 2s 1ms/step - loss: 5.3795e-08 - val_loss: 3.7800e-08\n",
      "Epoch 20/100\n",
      "1934/1934 [==============================] - 2s 1ms/step - loss: 6.7591e-08 - val_loss: 2.8070e-08\n",
      "Epoch 21/100\n",
      "1934/1934 [==============================] - 2s 1ms/step - loss: 5.6631e-08 - val_loss: 3.4002e-08\n",
      "Epoch 22/100\n",
      "1934/1934 [==============================] - 2s 1ms/step - loss: 4.8912e-08 - val_loss: 2.9351e-08\n",
      "Epoch 23/100\n",
      "1934/1934 [==============================] - 2s 1ms/step - loss: 5.2870e-08 - val_loss: 2.7886e-08\n",
      "Epoch 24/100\n",
      "1934/1934 [==============================] - 2s 1ms/step - loss: 5.5705e-08 - val_loss: 4.8003e-08\n",
      "Epoch 25/100\n",
      "1934/1934 [==============================] - 2s 1ms/step - loss: 5.3252e-08 - val_loss: 3.2611e-08\n",
      "Epoch 26/100\n",
      "1934/1934 [==============================] - 2s 1ms/step - loss: 4.9172e-08 - val_loss: 3.8344e-08\n",
      "Epoch 27/100\n",
      "1934/1934 [==============================] - 2s 1ms/step - loss: 4.7402e-08 - val_loss: 3.4376e-08\n",
      "Epoch 28/100\n",
      "1934/1934 [==============================] - 3s 1ms/step - loss: 5.4594e-08 - val_loss: 2.9769e-08\n",
      "Epoch 29/100\n",
      "1934/1934 [==============================] - 2s 1ms/step - loss: 3.8891e-08 - val_loss: 2.5837e-08\n",
      "Epoch 30/100\n",
      "1934/1934 [==============================] - 2s 1ms/step - loss: 4.9015e-08 - val_loss: 2.2078e-08\n",
      "Epoch 31/100\n",
      "1934/1934 [==============================] - 2s 1ms/step - loss: 4.5624e-08 - val_loss: 3.8028e-08\n",
      "Epoch 32/100\n",
      "1934/1934 [==============================] - 2s 1ms/step - loss: 3.5187e-08 - val_loss: 3.4439e-08\n",
      "Epoch 33/100\n",
      "1934/1934 [==============================] - 2s 1ms/step - loss: 4.4321e-08 - val_loss: 3.0367e-08\n",
      "Epoch 34/100\n",
      "1934/1934 [==============================] - 2s 1ms/step - loss: 3.9249e-08 - val_loss: 2.3655e-08\n",
      "Epoch 35/100\n",
      "1934/1934 [==============================] - 2s 1ms/step - loss: 3.8317e-08 - val_loss: 2.2453e-08\n",
      "Epoch 36/100\n",
      "1934/1934 [==============================] - 2s 1ms/step - loss: 3.7826e-08 - val_loss: 2.7368e-08\n",
      "Epoch 37/100\n",
      "1934/1934 [==============================] - 2s 1ms/step - loss: 3.8733e-08 - val_loss: 2.6777e-08\n",
      "Epoch 38/100\n",
      "1934/1934 [==============================] - 2s 1ms/step - loss: 3.3601e-08 - val_loss: 4.8235e-08\n",
      "Epoch 39/100\n",
      "1934/1934 [==============================] - 2s 1ms/step - loss: 4.8585e-08 - val_loss: 1.9776e-08\n",
      "Epoch 40/100\n",
      "1934/1934 [==============================] - 2s 1ms/step - loss: 3.0190e-08 - val_loss: 1.9892e-08\n",
      "Epoch 41/100\n",
      "1934/1934 [==============================] - 2s 1ms/step - loss: 3.3557e-08 - val_loss: 2.6852e-08\n",
      "Epoch 42/100\n",
      "1934/1934 [==============================] - 2s 1ms/step - loss: 3.9217e-08 - val_loss: 1.7106e-08\n",
      "Epoch 43/100\n",
      "1934/1934 [==============================] - 2s 1ms/step - loss: 3.0806e-08 - val_loss: 1.9019e-08\n",
      "Epoch 44/100\n",
      "1934/1934 [==============================] - 2s 1ms/step - loss: 3.4747e-08 - val_loss: 3.5663e-08\n",
      "Epoch 45/100\n",
      "1934/1934 [==============================] - 2s 1ms/step - loss: 3.3339e-08 - val_loss: 1.8921e-08\n",
      "Epoch 46/100\n",
      "1934/1934 [==============================] - 2s 1ms/step - loss: 3.1245e-08 - val_loss: 1.8975e-08\n",
      "Epoch 47/100\n",
      "1934/1934 [==============================] - 2s 1ms/step - loss: 3.0776e-08 - val_loss: 1.7381e-08\n",
      "Epoch 48/100\n",
      "1934/1934 [==============================] - 2s 1ms/step - loss: 3.2724e-08 - val_loss: 1.8904e-08\n",
      "Epoch 49/100\n",
      "1934/1934 [==============================] - 2s 1ms/step - loss: 2.4761e-08 - val_loss: 7.9842e-08\n",
      "Epoch 50/100\n",
      "1934/1934 [==============================] - 2s 1ms/step - loss: 3.0908e-08 - val_loss: 2.1889e-08\n",
      "Epoch 51/100\n",
      "1934/1934 [==============================] - 2s 1ms/step - loss: 2.9926e-08 - val_loss: 2.0055e-08\n",
      "Epoch 52/100\n",
      "1934/1934 [==============================] - 2s 1ms/step - loss: 2.6066e-08 - val_loss: 1.8103e-08\n",
      "Epoch 53/100\n",
      "1934/1934 [==============================] - 2s 1ms/step - loss: 2.6729e-08 - val_loss: 1.9360e-08\n",
      "Epoch 54/100\n",
      "1934/1934 [==============================] - 2s 1ms/step - loss: 2.3123e-08 - val_loss: 4.8035e-08\n",
      "Epoch 55/100\n",
      "1934/1934 [==============================] - 2s 1ms/step - loss: 2.7025e-08 - val_loss: 2.1636e-08\n",
      "Epoch 56/100\n",
      "1934/1934 [==============================] - 2s 1ms/step - loss: 2.4331e-08 - val_loss: 3.3615e-08\n",
      "Epoch 57/100\n",
      "1934/1934 [==============================] - 2s 1ms/step - loss: 2.6169e-08 - val_loss: 1.1839e-07\n",
      "Epoch 58/100\n",
      "1934/1934 [==============================] - 2s 1ms/step - loss: 2.9928e-08 - val_loss: 1.6973e-08\n",
      "Epoch 59/100\n",
      "1934/1934 [==============================] - 2s 1ms/step - loss: 2.9232e-08 - val_loss: 1.0696e-07\n",
      "Epoch 60/100\n",
      "1934/1934 [==============================] - 2s 1ms/step - loss: 2.3187e-08 - val_loss: 1.4717e-08\n",
      "Epoch 61/100\n",
      "1934/1934 [==============================] - 2s 1ms/step - loss: 2.4182e-08 - val_loss: 1.4206e-08\n",
      "Epoch 62/100\n",
      "1934/1934 [==============================] - 2s 1ms/step - loss: 2.1898e-08 - val_loss: 1.4785e-08\n",
      "Epoch 63/100\n",
      "1934/1934 [==============================] - 2s 1ms/step - loss: 2.4043e-08 - val_loss: 3.1026e-08\n",
      "Epoch 64/100\n",
      "1934/1934 [==============================] - 2s 1ms/step - loss: 2.4597e-08 - val_loss: 1.4006e-08\n",
      "Epoch 65/100\n",
      "1934/1934 [==============================] - 2s 1ms/step - loss: 2.4493e-08 - val_loss: 3.7140e-08\n",
      "Epoch 66/100\n",
      "1934/1934 [==============================] - 2s 1ms/step - loss: 2.0213e-08 - val_loss: 1.4431e-08\n",
      "Epoch 67/100\n",
      "1934/1934 [==============================] - 2s 1ms/step - loss: 3.0540e-08 - val_loss: 1.7429e-08\n",
      "Epoch 68/100\n",
      "1934/1934 [==============================] - 2s 1ms/step - loss: 2.1801e-08 - val_loss: 2.1041e-08\n",
      "Epoch 69/100\n",
      "1934/1934 [==============================] - 2s 1ms/step - loss: 2.2459e-08 - val_loss: 1.8993e-08\n",
      "Epoch 70/100\n",
      "1934/1934 [==============================] - 2s 1ms/step - loss: 2.6942e-08 - val_loss: 1.6111e-08\n",
      "Epoch 71/100\n",
      "1934/1934 [==============================] - 2s 1ms/step - loss: 2.0577e-08 - val_loss: 7.7692e-08\n",
      "Epoch 72/100\n",
      "1934/1934 [==============================] - 2s 1ms/step - loss: 1.8945e-08 - val_loss: 2.1607e-08\n",
      "Epoch 73/100\n",
      "1934/1934 [==============================] - 2s 1ms/step - loss: 2.5901e-08 - val_loss: 5.6319e-08\n",
      "Epoch 74/100\n",
      "1934/1934 [==============================] - 2s 1ms/step - loss: 1.9184e-08 - val_loss: 1.3215e-08\n",
      "Epoch 75/100\n",
      "1934/1934 [==============================] - 2s 1ms/step - loss: 2.5145e-08 - val_loss: 1.3699e-08\n",
      "Epoch 76/100\n",
      "1934/1934 [==============================] - 2s 1ms/step - loss: 1.7684e-08 - val_loss: 7.7595e-08\n",
      "Epoch 77/100\n",
      "1934/1934 [==============================] - 2s 1ms/step - loss: 2.0504e-08 - val_loss: 1.3075e-08\n",
      "Epoch 78/100\n",
      "1934/1934 [==============================] - 2s 1ms/step - loss: 2.3178e-08 - val_loss: 1.7650e-08\n",
      "Epoch 79/100\n",
      "1934/1934 [==============================] - 2s 1ms/step - loss: 2.4222e-08 - val_loss: 1.1694e-08\n",
      "Epoch 80/100\n",
      "1934/1934 [==============================] - 2s 1ms/step - loss: 1.9208e-08 - val_loss: 1.3429e-08\n",
      "Epoch 81/100\n",
      "1934/1934 [==============================] - 2s 1ms/step - loss: 2.1591e-08 - val_loss: 1.1542e-08\n",
      "Epoch 82/100\n",
      "1934/1934 [==============================] - 2s 1ms/step - loss: 2.1802e-08 - val_loss: 1.4209e-08\n",
      "Epoch 83/100\n",
      "1934/1934 [==============================] - 2s 1ms/step - loss: 2.2466e-08 - val_loss: 1.1943e-08\n",
      "Epoch 84/100\n",
      "1934/1934 [==============================] - 2s 1ms/step - loss: 1.9412e-08 - val_loss: 1.4499e-08\n",
      "Epoch 85/100\n",
      "1934/1934 [==============================] - 2s 1ms/step - loss: 2.3691e-08 - val_loss: 1.2455e-08\n",
      "Epoch 86/100\n",
      "1934/1934 [==============================] - 2s 1ms/step - loss: 2.2851e-08 - val_loss: 1.7260e-08\n",
      "Epoch 87/100\n",
      "1934/1934 [==============================] - 2s 1ms/step - loss: 1.9635e-08 - val_loss: 4.0260e-08\n",
      "Epoch 88/100\n",
      "1934/1934 [==============================] - 2s 1ms/step - loss: 1.5910e-08 - val_loss: 1.5331e-08\n",
      "Epoch 89/100\n",
      "1934/1934 [==============================] - 2s 1ms/step - loss: 1.7904e-08 - val_loss: 1.2287e-08\n",
      "Epoch 90/100\n",
      "1934/1934 [==============================] - 2s 1ms/step - loss: 2.4851e-08 - val_loss: 1.3305e-08\n",
      "Epoch 91/100\n",
      "1934/1934 [==============================] - 2s 1ms/step - loss: 1.9467e-08 - val_loss: 9.3860e-09\n",
      "Epoch 92/100\n",
      "1934/1934 [==============================] - 2s 1ms/step - loss: 2.4131e-08 - val_loss: 1.4519e-08\n",
      "Epoch 93/100\n",
      "1934/1934 [==============================] - 2s 1ms/step - loss: 1.8224e-08 - val_loss: 1.1187e-08\n",
      "Epoch 94/100\n",
      "1934/1934 [==============================] - 2s 1ms/step - loss: 1.7812e-08 - val_loss: 1.2003e-08\n",
      "Epoch 95/100\n",
      "1934/1934 [==============================] - 3s 1ms/step - loss: 2.0276e-08 - val_loss: 1.5373e-08\n",
      "Epoch 96/100\n",
      "1934/1934 [==============================] - 2s 1ms/step - loss: 1.8368e-08 - val_loss: 1.1345e-08\n",
      "Epoch 97/100\n",
      "1934/1934 [==============================] - 2s 1ms/step - loss: 1.7798e-08 - val_loss: 1.4605e-08\n",
      "Epoch 98/100\n",
      "1934/1934 [==============================] - 2s 1ms/step - loss: 2.3005e-08 - val_loss: 1.1534e-08\n",
      "Epoch 99/100\n",
      "1934/1934 [==============================] - 2s 1ms/step - loss: 1.5253e-08 - val_loss: 1.0128e-07\n",
      "Epoch 100/100\n",
      "1934/1934 [==============================] - 2s 1ms/step - loss: 2.0166e-08 - val_loss: 1.4756e-07\n"
     ]
    },
    {
     "data": {
      "text/plain": [
       "<keras.src.callbacks.History at 0x7fb1d61de380>"
      ]
     },
     "execution_count": 13,
     "metadata": {},
     "output_type": "execute_result"
    }
   ],
   "source": [
    "# Store input dimension\n",
    "input_dim = len(dataset.cn_measures)  # Input dimension\n",
    "# Build and train the autoencoder\n",
    "autoencoder = build_autoencoder(input_dim)\n",
    "autoencoder.fit(network3_features, network3_features, epochs=100, batch_size=32, validation_split=0.2)"
   ]
  },
  {
   "cell_type": "code",
   "execution_count": 14,
   "id": "21041b30-7b20-47f2-9066-74d2ea04833e",
   "metadata": {},
   "outputs": [
    {
     "name": "stdout",
     "output_type": "stream",
     "text": [
      "2417/2417 [==============================] - 2s 808us/step\n",
      "Latent vectors shape: (77329, 7)\n"
     ]
    }
   ],
   "source": [
    "# Extract latent vectors\n",
    "encoder = Model(inputs=autoencoder.input, outputs=autoencoder.layers[1].output)\n",
    "latent_vectors = encoder.predict(network3_features)\n",
    "\n",
    "# Print latent vectors shape\n",
    "print(\"Latent vectors shape:\", latent_vectors.shape)"
   ]
  },
  {
   "cell_type": "code",
   "execution_count": 15,
   "id": "ebe6dfdc-f650-49be-be32-f0199af02bcf",
   "metadata": {},
   "outputs": [
    {
     "name": "stdout",
     "output_type": "stream",
     "text": [
      "[[0.10269186 0.00070649 0.01854086 0.00341405 0.00087464 0.04781345\n",
      "  0.        ]\n",
      " [0.10269158 0.00070715 0.01854333 0.00341588 0.00087286 0.04780988\n",
      "  0.        ]\n",
      " [0.10334972 0.00054727 0.01815611 0.00490579 0.00088614 0.04765771\n",
      "  0.        ]\n",
      " [0.10269158 0.00070715 0.01854333 0.00341588 0.00087286 0.04780988\n",
      "  0.        ]\n",
      " [0.10269158 0.00070715 0.01854333 0.00341588 0.00087286 0.04780988\n",
      "  0.        ]\n",
      " [0.10582863 0.05044217 0.02614235 0.00243813 0.07013893 0.04284716\n",
      "  0.        ]\n",
      " [0.10269158 0.00070715 0.01854333 0.00341588 0.00087286 0.04780988\n",
      "  0.        ]\n",
      " [0.10269185 0.00070651 0.01854094 0.00341411 0.00087458 0.04781333\n",
      "  0.        ]\n",
      " [0.10269185 0.00070651 0.01854095 0.00341411 0.00087457 0.04781332\n",
      "  0.        ]\n",
      " [0.16642408 0.09747075 0.09221076 0.01062869 0.10451015 0.07871825\n",
      "  0.        ]\n",
      " [0.10269158 0.00070715 0.01854333 0.00341588 0.00087286 0.04780988\n",
      "  0.        ]\n",
      " [0.10269158 0.00070715 0.01854333 0.00341588 0.00087286 0.04780988\n",
      "  0.        ]]\n"
     ]
    }
   ],
   "source": [
    "print(latent_vectors[:12])  # Print the first 12 rows"
   ]
  },
  {
   "cell_type": "code",
   "execution_count": null,
   "id": "296a0a98-99cc-4d2d-8994-4578dcb19b85",
   "metadata": {},
   "outputs": [],
   "source": []
  }
 ],
 "metadata": {
  "kernelspec": {
   "display_name": "Python 3 (ipykernel)",
   "language": "python",
   "name": "python3"
  },
  "language_info": {
   "codemirror_mode": {
    "name": "ipython",
    "version": 3
   },
   "file_extension": ".py",
   "mimetype": "text/x-python",
   "name": "python",
   "nbconvert_exporter": "python",
   "pygments_lexer": "ipython3",
   "version": "3.10.12"
  }
 },
 "nbformat": 4,
 "nbformat_minor": 5
}
